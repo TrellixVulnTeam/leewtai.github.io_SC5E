{
 "cells": [
  {
   "cell_type": "code",
   "execution_count": 96,
   "metadata": {},
   "outputs": [],
   "source": [
    "from time import time\n",
    "import yaml\n",
    "import pandas as pd\n",
    "import numpy as np\n",
    "import statsmodels.api as sm\n",
    "from scipy.optimize import approx_fprime, minimize\n",
    "from scipy.integrate import simps"
   ]
  },
  {
   "cell_type": "code",
   "execution_count": 13,
   "metadata": {},
   "outputs": [],
   "source": [
    "%matplotlib inline\n",
    "import matplotlib.pyplot as plt"
   ]
  },
  {
   "cell_type": "code",
   "execution_count": 632,
   "metadata": {},
   "outputs": [
    {
     "name": "stderr",
     "output_type": "stream",
     "text": [
      "/Users/wayne.lee/miniconda3/envs/notebooks/lib/python3.7/site-packages/ipykernel_launcher.py:2: YAMLLoadWarning: calling yaml.load() without Loader=... is deprecated, as the default Loader is unsafe. Please read https://msg.pyyaml.org/load for full details.\n",
      "  \n",
      "/Users/wayne.lee/miniconda3/envs/notebooks/lib/python3.7/site-packages/ipykernel_launcher.py:5: YAMLLoadWarning: calling yaml.load() without Loader=... is deprecated, as the default Loader is unsafe. Please read https://msg.pyyaml.org/load for full details.\n",
      "  \"\"\"\n"
     ]
    }
   ],
   "source": [
    "with open(\"x.yaml\", \"r\") as file:\n",
    "    x = yaml.load(file)\n",
    "    \n",
    "with open(\"y.yaml\", \"r\") as file:\n",
    "    y = yaml.load(file)"
   ]
  },
  {
   "cell_type": "code",
   "execution_count": 612,
   "metadata": {},
   "outputs": [
    {
     "data": {
      "text/plain": [
       "dict"
      ]
     },
     "execution_count": 612,
     "metadata": {},
     "output_type": "execute_result"
    }
   ],
   "source": [
    "type(x)"
   ]
  },
  {
   "cell_type": "code",
   "execution_count": 613,
   "metadata": {},
   "outputs": [
    {
     "data": {
      "text/plain": [
       "1000"
      ]
     },
     "execution_count": 613,
     "metadata": {},
     "output_type": "execute_result"
    }
   ],
   "source": [
    "len(x[1])"
   ]
  },
  {
   "cell_type": "code",
   "execution_count": 614,
   "metadata": {},
   "outputs": [],
   "source": [
    "irreps = list(x.keys())"
   ]
  },
  {
   "cell_type": "code",
   "execution_count": 615,
   "metadata": {},
   "outputs": [
    {
     "data": {
      "text/plain": [
       "[0, 1, 2, 3, 4, 5, 6, 7, 8, 9, 10, 11, 12, 13, 14, 15]"
      ]
     },
     "execution_count": 615,
     "metadata": {},
     "output_type": "execute_result"
    }
   ],
   "source": [
    "irreps"
   ]
  },
  {
   "cell_type": "code",
   "execution_count": 633,
   "metadata": {},
   "outputs": [],
   "source": [
    "to_dfs = lambda my_map: pd.DataFrame({key: my_map[key] for key in my_map})\n",
    "x_df = to_dfs(x)\n",
    "y_df = to_dfs(y)"
   ]
  },
  {
   "cell_type": "code",
   "execution_count": 881,
   "metadata": {},
   "outputs": [],
   "source": [
    "def is_extreme(x, thresh=0.1):\n",
    "    bounds = np.percentile(x, [thresh, 100 - thresh])\n",
    "    return (x < bounds[0]) | (x > bounds[1])"
   ]
  },
  {
   "cell_type": "code",
   "execution_count": 907,
   "metadata": {},
   "outputs": [],
   "source": [
    "def remove_extreme(df, thresh=0.1):\n",
    "    extr_mat = df.apply(is_extreme, 0, thresh=thresh)\n",
    "    any_extre = extr_mat.apply(any, 1)\n",
    "    return df.loc[~any_extre,:]"
   ]
  },
  {
   "cell_type": "code",
   "execution_count": 883,
   "metadata": {},
   "outputs": [],
   "source": [
    "y_df = remove_extreme(y_df)\n",
    "x_df = remove_extreme(x_df)"
   ]
  },
  {
   "cell_type": "code",
   "execution_count": 742,
   "metadata": {},
   "outputs": [],
   "source": [
    "# Long version of the data frame which is nice for graphing\n",
    "dfs = [pd.DataFrame([{\"x\": xi, \"y\": yi, \"irrep\": k}\n",
    "                     for xi, yi in zip(x[k], y[k])])\n",
    "       for k in x]\n",
    "df = pd.concat(dfs)"
   ]
  },
  {
   "cell_type": "code",
   "execution_count": 886,
   "metadata": {},
   "outputs": [],
   "source": [
    "y_cov = np.cov(y_df.T)\n",
    "x_cov = np.cov(x_df.T)"
   ]
  },
  {
   "cell_type": "code",
   "execution_count": 887,
   "metadata": {},
   "outputs": [
    {
     "data": {
      "text/plain": [
       "(16, 16)"
      ]
     },
     "execution_count": 887,
     "metadata": {},
     "output_type": "execute_result"
    }
   ],
   "source": [
    "y_cov.shape"
   ]
  },
  {
   "cell_type": "markdown",
   "metadata": {},
   "source": [
    "#### The eigen values are not too small - condition number is not too large"
   ]
  },
  {
   "cell_type": "code",
   "execution_count": 888,
   "metadata": {},
   "outputs": [
    {
     "data": {
      "text/plain": [
       "array([1.69804641e+00, 2.97439015e-01, 8.76999377e-02, 2.12926792e-02,\n",
       "       1.67441733e-02, 1.32340371e-02, 1.10746561e-02, 6.71685964e-03,\n",
       "       5.97567214e-03, 1.28106032e-03, 1.68618689e-03, 2.39011223e-03,\n",
       "       2.63045635e-03, 5.04076626e-03, 4.09871967e-03, 4.31301726e-03])"
      ]
     },
     "execution_count": 888,
     "metadata": {},
     "output_type": "execute_result"
    }
   ],
   "source": [
    "np.linalg.eigvals(y_cov)"
   ]
  },
  {
   "cell_type": "code",
   "execution_count": 889,
   "metadata": {},
   "outputs": [
    {
     "data": {
      "text/plain": [
       "array([2.09912357e-04, 2.72233369e-05, 2.24894833e-05, 1.66155423e-05,\n",
       "       1.09173506e-05, 1.03567600e-05, 8.46783762e-06, 8.68469241e-06,\n",
       "       2.56540903e-06, 6.25862525e-06, 5.78611803e-06, 5.29608754e-06,\n",
       "       5.02194944e-06, 4.48049472e-06, 2.86114866e-06, 3.85592658e-06])"
      ]
     },
     "execution_count": 889,
     "metadata": {},
     "output_type": "execute_result"
    }
   ],
   "source": [
    "np.linalg.eigvals(x_cov)"
   ]
  },
  {
   "cell_type": "code",
   "execution_count": 890,
   "metadata": {},
   "outputs": [],
   "source": [
    "y_avgs = y_df.mean()"
   ]
  },
  {
   "cell_type": "code",
   "execution_count": 891,
   "metadata": {},
   "outputs": [
    {
     "data": {
      "text/html": [
       "<div>\n",
       "<style scoped>\n",
       "    .dataframe tbody tr th:only-of-type {\n",
       "        vertical-align: middle;\n",
       "    }\n",
       "\n",
       "    .dataframe tbody tr th {\n",
       "        vertical-align: top;\n",
       "    }\n",
       "\n",
       "    .dataframe thead th {\n",
       "        text-align: right;\n",
       "    }\n",
       "</style>\n",
       "<table border=\"1\" class=\"dataframe\">\n",
       "  <thead>\n",
       "    <tr style=\"text-align: right;\">\n",
       "      <th></th>\n",
       "      <th>0</th>\n",
       "      <th>1</th>\n",
       "      <th>2</th>\n",
       "      <th>3</th>\n",
       "      <th>4</th>\n",
       "      <th>5</th>\n",
       "      <th>6</th>\n",
       "      <th>7</th>\n",
       "      <th>8</th>\n",
       "      <th>9</th>\n",
       "      <th>10</th>\n",
       "      <th>11</th>\n",
       "      <th>12</th>\n",
       "      <th>13</th>\n",
       "      <th>14</th>\n",
       "      <th>15</th>\n",
       "    </tr>\n",
       "  </thead>\n",
       "  <tbody>\n",
       "    <tr>\n",
       "      <th>0</th>\n",
       "      <td>0.338059</td>\n",
       "      <td>0.460118</td>\n",
       "      <td>0.184530</td>\n",
       "      <td>1.098172</td>\n",
       "      <td>0.233090</td>\n",
       "      <td>0.663361</td>\n",
       "      <td>0.180619</td>\n",
       "      <td>0.512536</td>\n",
       "      <td>0.313644</td>\n",
       "      <td>0.250325</td>\n",
       "      <td>0.571727</td>\n",
       "      <td>0.317052</td>\n",
       "      <td>0.320103</td>\n",
       "      <td>1.010166</td>\n",
       "      <td>0.344145</td>\n",
       "      <td>0.361741</td>\n",
       "    </tr>\n",
       "    <tr>\n",
       "      <th>1</th>\n",
       "      <td>0.207322</td>\n",
       "      <td>0.503118</td>\n",
       "      <td>0.203054</td>\n",
       "      <td>0.850276</td>\n",
       "      <td>0.323391</td>\n",
       "      <td>0.546566</td>\n",
       "      <td>0.049641</td>\n",
       "      <td>0.698921</td>\n",
       "      <td>0.370164</td>\n",
       "      <td>0.153134</td>\n",
       "      <td>0.660287</td>\n",
       "      <td>0.227176</td>\n",
       "      <td>0.347311</td>\n",
       "      <td>0.867895</td>\n",
       "      <td>0.435629</td>\n",
       "      <td>0.472706</td>\n",
       "    </tr>\n",
       "    <tr>\n",
       "      <th>2</th>\n",
       "      <td>0.286605</td>\n",
       "      <td>0.608619</td>\n",
       "      <td>0.120647</td>\n",
       "      <td>0.975858</td>\n",
       "      <td>0.333657</td>\n",
       "      <td>0.601397</td>\n",
       "      <td>0.224913</td>\n",
       "      <td>0.597816</td>\n",
       "      <td>0.296941</td>\n",
       "      <td>0.288718</td>\n",
       "      <td>0.626849</td>\n",
       "      <td>0.242085</td>\n",
       "      <td>0.471775</td>\n",
       "      <td>0.664171</td>\n",
       "      <td>0.419607</td>\n",
       "      <td>0.392133</td>\n",
       "    </tr>\n",
       "    <tr>\n",
       "      <th>3</th>\n",
       "      <td>0.315686</td>\n",
       "      <td>0.549046</td>\n",
       "      <td>0.186244</td>\n",
       "      <td>1.108152</td>\n",
       "      <td>0.431683</td>\n",
       "      <td>0.635867</td>\n",
       "      <td>0.200965</td>\n",
       "      <td>0.571647</td>\n",
       "      <td>0.361466</td>\n",
       "      <td>0.119846</td>\n",
       "      <td>0.612267</td>\n",
       "      <td>0.273368</td>\n",
       "      <td>0.460139</td>\n",
       "      <td>0.780685</td>\n",
       "      <td>0.491999</td>\n",
       "      <td>0.369155</td>\n",
       "    </tr>\n",
       "  </tbody>\n",
       "</table>\n",
       "</div>"
      ],
      "text/plain": [
       "         0         1         2         3         4         5         6   \\\n",
       "0  0.338059  0.460118  0.184530  1.098172  0.233090  0.663361  0.180619   \n",
       "1  0.207322  0.503118  0.203054  0.850276  0.323391  0.546566  0.049641   \n",
       "2  0.286605  0.608619  0.120647  0.975858  0.333657  0.601397  0.224913   \n",
       "3  0.315686  0.549046  0.186244  1.108152  0.431683  0.635867  0.200965   \n",
       "\n",
       "         7         8         9         10        11        12        13  \\\n",
       "0  0.512536  0.313644  0.250325  0.571727  0.317052  0.320103  1.010166   \n",
       "1  0.698921  0.370164  0.153134  0.660287  0.227176  0.347311  0.867895   \n",
       "2  0.597816  0.296941  0.288718  0.626849  0.242085  0.471775  0.664171   \n",
       "3  0.571647  0.361466  0.119846  0.612267  0.273368  0.460139  0.780685   \n",
       "\n",
       "         14        15  \n",
       "0  0.344145  0.361741  \n",
       "1  0.435629  0.472706  \n",
       "2  0.419607  0.392133  \n",
       "3  0.491999  0.369155  "
      ]
     },
     "execution_count": 891,
     "metadata": {},
     "output_type": "execute_result"
    }
   ],
   "source": [
    "y_df.head(4)"
   ]
  },
  {
   "cell_type": "code",
   "execution_count": 892,
   "metadata": {},
   "outputs": [
    {
     "data": {
      "text/plain": [
       "0    0.258938\n",
       "1    0.559395\n",
       "2    0.160908\n",
       "3    1.049804\n",
       "4    0.333639\n",
       "dtype: float64"
      ]
     },
     "execution_count": 892,
     "metadata": {},
     "output_type": "execute_result"
    }
   ],
   "source": [
    "y_avgs.head(5)"
   ]
  },
  {
   "cell_type": "code",
   "execution_count": 893,
   "metadata": {},
   "outputs": [],
   "source": [
    "x_avgs = x_df.mean()\n",
    "x_mat = sm.add_constant(x_avgs).to_numpy()"
   ]
  },
  {
   "cell_type": "code",
   "execution_count": 894,
   "metadata": {},
   "outputs": [],
   "source": [
    "W = np.linalg.inv(y_cov)\n",
    "XtWX = x_mat.T.dot(W).dot(x_mat)\n",
    "wls_beta = np.linalg.inv(XtWX).dot(x_mat.T.dot(W).dot(y_avgs.to_numpy()))"
   ]
  },
  {
   "cell_type": "code",
   "execution_count": 895,
   "metadata": {},
   "outputs": [
    {
     "data": {
      "text/plain": [
       "array([0.08287115, 2.62708241])"
      ]
     },
     "execution_count": 895,
     "metadata": {},
     "output_type": "execute_result"
    }
   ],
   "source": [
    "wls_beta"
   ]
  },
  {
   "cell_type": "code",
   "execution_count": 896,
   "metadata": {},
   "outputs": [],
   "source": [
    "xs = np.linspace(df.x.min(), df.x.max(), 1000)"
   ]
  },
  {
   "cell_type": "code",
   "execution_count": 897,
   "metadata": {},
   "outputs": [
    {
     "data": {
      "text/plain": [
       "(-2.0768685455309677, 2.997785081042233)"
      ]
     },
     "execution_count": 897,
     "metadata": {},
     "output_type": "execute_result"
    },
    {
     "data": {
      "image/png": "[encoded data removed]",
      "text/plain": [
       "<Figure size 432x288 with 1 Axes>"
      ]
     },
     "metadata": {
      "needs_background": "light"
     },
     "output_type": "display_data"
    }
   ],
   "source": [
    "for irrep in irreps:\n",
    "    plt.scatter(x[irrep], y[irrep], color=\"black\")\n",
    "plt.plot(xs, wls_beta[0] + wls_beta[1] * xs)\n",
    "plt.scatter(x_avgs, y_avgs, color=\"red\")\n",
    "plt.ylim(np.percentile(df.y, [.1, 99.9]))"
   ]
  },
  {
   "cell_type": "markdown",
   "metadata": {},
   "source": [
    "## Biggest mystery - why is the fitted line below most points?"
   ]
  },
  {
   "cell_type": "markdown",
   "metadata": {},
   "source": [
    "The predictive distribution is\n",
    "$\\hat{Y} = X\\hat{\\beta}_{WLS} = X([X^T W X]^{-1}X^T W Y)$\n",
    "\n",
    "Sanity check: $Cov(Y) = \\Sigma = W^{-1}$\n",
    "So $\\hat{Y} = X\\hat{\\beta}_{WLS} = X([X^T W X]^{-1}X^T W Y) = X\\beta + X[X^T W X]^{-1}X^T W \\epsilon$\n",
    "So $Cov(\\hat{Y}) = X[X^T W X]^{-1}X^T W \\Sigma W X [X^T W X]^{-1}X^T = X[X^T W X]^{-1}X^T W X [X^T W X]^{-1}X^T = X[X^T W X]^{-1}X^T$"
   ]
  },
  {
   "cell_type": "code",
   "execution_count": 790,
   "metadata": {},
   "outputs": [],
   "source": [
    "def calc_lev(XtWX, x_mat):\n",
    "    XtWX_inv = np.linalg.inv(XtWX)\n",
    "    mat1 = x_mat.dot(XtWX_inv)\n",
    "    hat_mat = mat1.dot(x_mat.T)\n",
    "    lev = np.diag(hat_mat) / np.sum(np.diag(hat_mat)) * 100\n",
    "    return lev"
   ]
  },
  {
   "cell_type": "code",
   "execution_count": 711,
   "metadata": {},
   "outputs": [],
   "source": [
    "lev = calc_lev(XtWX, x_mat)"
   ]
  },
  {
   "cell_type": "code",
   "execution_count": 788,
   "metadata": {},
   "outputs": [
    {
     "data": {
      "text/plain": [
       "array([ 3.43989081,  7.73880659,  3.09289485, 12.66598924,  3.0962824 ,\n",
       "       11.44999963,  3.51289721,  7.60852764,  3.46847437,  3.47140854,\n",
       "        7.79813413,  3.39477571,  3.53589707, 17.13956371,  4.3901301 ,\n",
       "        4.196328  ])"
      ]
     },
     "execution_count": 788,
     "metadata": {},
     "output_type": "execute_result"
    }
   ],
   "source": [
    "lev"
   ]
  },
  {
   "cell_type": "code",
   "execution_count": 869,
   "metadata": {},
   "outputs": [
    {
     "data": {
      "text/plain": [
       "(array([ 3,  5, 13]),)"
      ]
     },
     "execution_count": 869,
     "metadata": {},
     "output_type": "execute_result"
    }
   ],
   "source": [
    "np.where(lev > 10)"
   ]
  },
  {
   "cell_type": "code",
   "execution_count": 715,
   "metadata": {},
   "outputs": [
    {
     "data": {
      "text/plain": [
       "(-2.0768685455309677, 2.997785081042233)"
      ]
     },
     "execution_count": 715,
     "metadata": {},
     "output_type": "execute_result"
    },
    {
     "data": {
      "image/png": "[encoded data removed]",
      "text/plain": [
       "<Figure size 432x288 with 1 Axes>"
      ]
     },
     "metadata": {
      "needs_background": "light"
     },
     "output_type": "display_data"
    }
   ],
   "source": [
    "[plt.scatter(x[irrep], y[irrep]) for irrep, status in zip(irreps, lev > 10) if status]\n",
    "plt.xlim([df.x.min(), df.x.max()])\n",
    "plt.ylim(np.percentile(df.y, [.1, 99.9]))"
   ]
  },
  {
   "cell_type": "code",
   "execution_count": 733,
   "metadata": {},
   "outputs": [],
   "source": [
    "low_lev = lev < 10"
   ]
  },
  {
   "cell_type": "code",
   "execution_count": 791,
   "metadata": {},
   "outputs": [],
   "source": [
    "x_mat = sm.add_constant(x_avgs.loc[low_lev]).to_numpy()\n",
    "W = np.linalg.inv(y_cov[:,low_lev][low_lev,:])\n",
    "XtWX = x_mat.T.dot(W).dot(x_mat)\n",
    "wls_beta = np.linalg.inv(XtWX).dot(x_mat.T.dot(W).dot(y_avgs.loc[low_lev].to_numpy()))"
   ]
  },
  {
   "cell_type": "code",
   "execution_count": 792,
   "metadata": {},
   "outputs": [
    {
     "data": {
      "text/plain": [
       "(-2.0768685455309677, 2.997785081042233)"
      ]
     },
     "execution_count": 792,
     "metadata": {},
     "output_type": "execute_result"
    },
    {
     "data": {
      "image/png": "[encoded data removed]",
      "text/plain": [
       "<Figure size 432x288 with 1 Axes>"
      ]
     },
     "metadata": {
      "needs_background": "light"
     },
     "output_type": "display_data"
    }
   ],
   "source": [
    "for irrep, low in zip(irreps, low_lev):\n",
    "    if not low:\n",
    "        plt.scatter(x[irrep], y[irrep], color=\"black\")\n",
    "    else:\n",
    "        plt.scatter(x[irrep], y[irrep], color=\"blue\")\n",
    "plt.plot(xs, wls_beta[0] + wls_beta[1] * xs)\n",
    "plt.scatter(x_avgs, y_avgs, color=\"red\")\n",
    "plt.ylim(np.percentile(df.y, [.1, 99.9]))"
   ]
  },
  {
   "cell_type": "code",
   "execution_count": 793,
   "metadata": {},
   "outputs": [],
   "source": [
    "lev_drop = calc_lev(XtWX, x_mat)"
   ]
  },
  {
   "cell_type": "code",
   "execution_count": 805,
   "metadata": {},
   "outputs": [
    {
     "data": {
      "text/plain": [
       "array([ 6.59098014, 13.03275549,  5.37439754,  5.2709653 ,  6.79633369,\n",
       "       12.78949623,  5.55385876,  6.68026024, 13.14366159,  5.45807984,\n",
       "        5.64623273,  6.9927901 ,  6.67018835])"
      ]
     },
     "execution_count": 805,
     "metadata": {},
     "output_type": "execute_result"
    }
   ],
   "source": [
    "#### Confirming that our code above did drop the right ones - checks out\n",
    "lev_drop"
   ]
  },
  {
   "cell_type": "markdown",
   "metadata": {},
   "source": [
    "## Understanding the negative bias"
   ]
  },
  {
   "cell_type": "code",
   "execution_count": 806,
   "metadata": {},
   "outputs": [],
   "source": [
    "x_avgs = x_df.mean()\n",
    "x_mat = sm.add_constant(x_avgs).to_numpy()\n",
    "W = np.linalg.inv(y_cov)\n",
    "XtWX = x_mat.T.dot(W).dot(x_mat)\n",
    "wls_beta = np.linalg.inv(XtWX).dot(x_mat.T.dot(W).dot(y_avgs.to_numpy()))"
   ]
  },
  {
   "cell_type": "code",
   "execution_count": 821,
   "metadata": {},
   "outputs": [],
   "source": [
    "yhat = x_mat.dot(wls_beta)"
   ]
  },
  {
   "cell_type": "code",
   "execution_count": 826,
   "metadata": {},
   "outputs": [
    {
     "data": {
      "text/plain": [
       "array([0.05003933, 0.44558782, 0.12839486, 0.58072467, 0.14588466,\n",
       "       0.5514709 , 0.04156582, 0.4412061 , 0.22363813, 0.04628203,\n",
       "       0.44756285, 0.21453683, 0.23121221, 0.67486975, 0.29928053,\n",
       "       0.28654556])"
      ]
     },
     "execution_count": 826,
     "metadata": {},
     "output_type": "execute_result"
    }
   ],
   "source": [
    "yhat"
   ]
  },
  {
   "cell_type": "code",
   "execution_count": 846,
   "metadata": {},
   "outputs": [
    {
     "data": {
      "text/plain": [
       "0     True\n",
       "1     True\n",
       "2     True\n",
       "3     True\n",
       "4     True\n",
       "5     True\n",
       "6     True\n",
       "7     True\n",
       "8     True\n",
       "9     True\n",
       "10    True\n",
       "11    True\n",
       "12    True\n",
       "13    True\n",
       "14    True\n",
       "15    True\n",
       "dtype: bool"
      ]
     },
     "execution_count": 846,
     "metadata": {},
     "output_type": "execute_result"
    }
   ],
   "source": [
    "yhat <= y_avgs"
   ]
  },
  {
   "cell_type": "code",
   "execution_count": 822,
   "metadata": {},
   "outputs": [],
   "source": [
    "pre_y_mat = x_mat.dot(np.linalg.inv(XtWX).dot(x_mat.T.dot(W)))"
   ]
  },
  {
   "cell_type": "code",
   "execution_count": 834,
   "metadata": {},
   "outputs": [],
   "source": [
    "i = 0\n",
    "weighted_view = []\n",
    "for i in range(len(irreps)):\n",
    "    weighted_view.append(pre_y_mat[i, :] * y_avgs / yhat[i])\n",
    "    \n",
    "w_df = np.stack(weighted_view)"
   ]
  },
  {
   "cell_type": "code",
   "execution_count": 843,
   "metadata": {},
   "outputs": [
    {
     "data": {
      "text/plain": [
       "<matplotlib.collections.PathCollection at 0x7febdebe1350>"
      ]
     },
     "execution_count": 843,
     "metadata": {},
     "output_type": "execute_result"
    },
    {
     "data": {
      "image/png": "[encoded data removed]",
      "text/plain": [
       "<Figure size 432x288 with 1 Axes>"
      ]
     },
     "metadata": {
      "needs_background": "light"
     },
     "output_type": "display_data"
    }
   ],
   "source": [
    "norm_weight_mean = np.apply_along_axis(np.mean, 0, w_df)\n",
    "plt.scatter(range(len(irreps)), norm_weight_mean)"
   ]
  },
  {
   "cell_type": "code",
   "execution_count": 844,
   "metadata": {},
   "outputs": [
    {
     "data": {
      "text/plain": [
       "<matplotlib.collections.PathCollection at 0x7febdebcf490>"
      ]
     },
     "execution_count": 844,
     "metadata": {},
     "output_type": "execute_result"
    },
    {
     "data": {
      "image/png": "[encoded data removed]",
      "text/plain": [
       "<Figure size 432x288 with 1 Axes>"
      ]
     },
     "metadata": {
      "needs_background": "light"
     },
     "output_type": "display_data"
    }
   ],
   "source": [
    "norm_abs_weight_mean = np.apply_along_axis(lambda x: np.mean(np.abs(x)), 0, w_df)\n",
    "plt.scatter(range(len(irreps)), norm_abs_weight_mean)"
   ]
  },
  {
   "cell_type": "code",
   "execution_count": 845,
   "metadata": {},
   "outputs": [
    {
     "data": {
      "text/plain": [
       "<matplotlib.collections.PathCollection at 0x7febde886750>"
      ]
     },
     "execution_count": 845,
     "metadata": {},
     "output_type": "execute_result"
    },
    {
     "data": {
      "image/png": "[encoded data removed]",
      "text/plain": [
       "<Figure size 432x288 with 1 Axes>"
      ]
     },
     "metadata": {
      "needs_background": "light"
     },
     "output_type": "display_data"
    }
   ],
   "source": [
    "plt.scatter(norm_weight_mean, norm_abs_weight_mean)"
   ]
  },
  {
   "cell_type": "code",
   "execution_count": 812,
   "metadata": {},
   "outputs": [
    {
     "data": {
      "text/plain": [
       "(array([ 3,  5, 13]),)"
      ]
     },
     "execution_count": 812,
     "metadata": {},
     "output_type": "execute_result"
    }
   ],
   "source": [
    "np.where(~low_lev)"
   ]
  },
  {
   "cell_type": "markdown",
   "metadata": {},
   "source": [
    "#### Notice the large negative term"
   ]
  },
  {
   "cell_type": "code",
   "execution_count": 857,
   "metadata": {},
   "outputs": [
    {
     "data": {
      "text/plain": [
       "array([ 0.08883089,  0.35530046,  0.19392285,  0.83194127,  0.39813337,\n",
       "        0.41831295,  0.92782037,  0.26900897,  0.27748288, -1.06950723,\n",
       "        0.25823338,  0.24596702,  0.37062083,  1.        ,  0.1285092 ,\n",
       "        0.25063272])"
      ]
     },
     "execution_count": 857,
     "metadata": {},
     "output_type": "execute_result"
    }
   ],
   "source": [
    "y_cov[13, :] / y_cov[13, 13]"
   ]
  },
  {
   "cell_type": "code",
   "execution_count": 854,
   "metadata": {},
   "outputs": [
    {
     "data": {
      "text/plain": [
       "<matplotlib.collections.PathCollection at 0x7febdf41bad0>"
      ]
     },
     "execution_count": 854,
     "metadata": {},
     "output_type": "execute_result"
    },
    {
     "data": {
      "image/png": "[encoded data removed]",
      "text/plain": [
       "<Figure size 432x288 with 1 Axes>"
      ]
     },
     "metadata": {
      "needs_background": "light"
     },
     "output_type": "display_data"
    }
   ],
   "source": [
    "plt.scatter(y_df.iloc[:, 3], y_df.iloc[:, 9])"
   ]
  },
  {
   "cell_type": "code",
   "execution_count": 855,
   "metadata": {},
   "outputs": [
    {
     "data": {
      "text/plain": [
       "(array([674]),)"
      ]
     },
     "execution_count": 855,
     "metadata": {},
     "output_type": "execute_result"
    }
   ],
   "source": [
    "np.where(df.y[df.irrep == 9] < -80)"
   ]
  },
  {
   "cell_type": "code",
   "execution_count": 865,
   "metadata": {},
   "outputs": [
    {
     "data": {
      "text/plain": [
       "<matplotlib.collections.PathCollection at 0x7febdef68a10>"
      ]
     },
     "execution_count": 865,
     "metadata": {},
     "output_type": "execute_result"
    },
    {
     "data": {
      "image/png": "[encoded data removed]",
      "text/plain": [
       "<Figure size 432x288 with 1 Axes>"
      ]
     },
     "metadata": {
      "needs_background": "light"
     },
     "output_type": "display_data"
    }
   ],
   "source": [
    "plt.scatter(y_df.iloc[:, 13], y_df.iloc[:, 9])"
   ]
  },
  {
   "cell_type": "code",
   "execution_count": 870,
   "metadata": {},
   "outputs": [
    {
     "data": {
      "text/plain": [
       "array([ 0.31965002,  0.89103635,  0.48057994,  1.9970813 ,  0.99914996,\n",
       "        0.98163423,  2.20757122,  0.78585502,  0.66087862, -1.74801495,\n",
       "        0.81564584,  0.60559066,  0.88658293,  1.66889676,  0.58108805,\n",
       "        1.        ])"
      ]
     },
     "execution_count": 870,
     "metadata": {},
     "output_type": "execute_result"
    }
   ],
   "source": [
    "y_cov[-1, :] / y_cov[-1, -1]"
   ]
  },
  {
   "cell_type": "code",
   "execution_count": 871,
   "metadata": {},
   "outputs": [
    {
     "data": {
      "text/plain": [
       "<matplotlib.collections.PathCollection at 0x7febdf6e8c10>"
      ]
     },
     "execution_count": 871,
     "metadata": {},
     "output_type": "execute_result"
    },
    {
     "data": {
      "image/png": "[encoded data removed]",
      "text/plain": [
       "<Figure size 432x288 with 1 Axes>"
      ]
     },
     "metadata": {
      "needs_background": "light"
     },
     "output_type": "display_data"
    }
   ],
   "source": [
    "plt.scatter(y_df.iloc[:, -1], y_df.iloc[:, 6])"
   ]
  },
  {
   "cell_type": "code",
   "execution_count": 872,
   "metadata": {},
   "outputs": [
    {
     "data": {
      "text/plain": [
       "(array([407]),)"
      ]
     },
     "execution_count": 872,
     "metadata": {},
     "output_type": "execute_result"
    }
   ],
   "source": [
    "np.where(df.y[df.irrep == 6] > 15)"
   ]
  },
  {
   "cell_type": "code",
   "execution_count": null,
   "metadata": {},
   "outputs": [],
   "source": []
  },
  {
   "cell_type": "markdown",
   "metadata": {},
   "source": [
    "#### There are some outliers"
   ]
  },
  {
   "cell_type": "code",
   "execution_count": 601,
   "metadata": {},
   "outputs": [
    {
     "data": {
      "image/png": "[encoded data removed]",
      "text/plain": [
       "<Figure size 432x288 with 1 Axes>"
      ]
     },
     "metadata": {
      "needs_background": "light"
     },
     "output_type": "display_data"
    }
   ],
   "source": [
    "plt.scatter(df.x, df.y)\n",
    "plt.show()"
   ]
  },
  {
   "cell_type": "code",
   "execution_count": 749,
   "metadata": {},
   "outputs": [
    {
     "data": {
      "text/plain": [
       "(37, 3)"
      ]
     },
     "execution_count": 749,
     "metadata": {},
     "output_type": "execute_result"
    }
   ],
   "source": [
    "### There are around 37 \"outliers\"\n",
    "df.loc[(df.y < -0.5) | (df.y > 3),:].shape"
   ]
  },
  {
   "cell_type": "markdown",
   "metadata": {},
   "source": [
    "After examining the histogram for the distribution in \"x\", these mostly seem Normal except for the 15th + 16th irreps."
   ]
  },
  {
   "cell_type": "code",
   "execution_count": 750,
   "metadata": {},
   "outputs": [
    {
     "data": {
      "text/plain": [
       "(array([  8.,  19.,  85., 152., 212., 241., 176.,  72.,  32.,   3.]),\n",
       " array([0.06475477, 0.06815471, 0.07155466, 0.0749546 , 0.07835455,\n",
       "        0.08175449, 0.08515443, 0.08855438, 0.09195432, 0.09535426,\n",
       "        0.09875421]),\n",
       " <a list of 10 Patch objects>)"
      ]
     },
     "execution_count": 750,
     "metadata": {},
     "output_type": "execute_result"
    },
    {
     "data": {
      "image/png": "[encoded data removed]",
      "text/plain": [
       "<Figure size 432x288 with 1 Axes>"
      ]
     },
     "metadata": {
      "needs_background": "light"
     },
     "output_type": "display_data"
    }
   ],
   "source": [
    "plt.hist(df.x[df.irrep == 15])"
   ]
  },
  {
   "cell_type": "markdown",
   "metadata": {},
   "source": [
    "#### The correlation varies a bit (low and high both exist)"
   ]
  },
  {
   "cell_type": "code",
   "execution_count": 849,
   "metadata": {},
   "outputs": [
    {
     "data": {
      "text/plain": [
       "<matplotlib.collections.PathCollection at 0x7febdecf3790>"
      ]
     },
     "execution_count": 849,
     "metadata": {},
     "output_type": "execute_result"
    },
    {
     "data": {
      "image/png": "[encoded data removed]",
      "text/plain": [
       "<Figure size 432x288 with 1 Axes>"
      ]
     },
     "metadata": {
      "needs_background": "light"
     },
     "output_type": "display_data"
    }
   ],
   "source": [
    "plt.scatter(df.x[df.irrep == 3], df.x[df.irrep == 9])"
   ]
  },
  {
   "cell_type": "code",
   "execution_count": 850,
   "metadata": {},
   "outputs": [
    {
     "data": {
      "text/plain": [
       "<matplotlib.collections.PathCollection at 0x7febdf840c90>"
      ]
     },
     "execution_count": 850,
     "metadata": {},
     "output_type": "execute_result"
    },
    {
     "data": {
      "image/png": "[encoded data removed]",
      "text/plain": [
       "<Figure size 432x288 with 1 Axes>"
      ]
     },
     "metadata": {
      "needs_background": "light"
     },
     "output_type": "display_data"
    }
   ],
   "source": [
    "plt.scatter(df.x[df.irrep == 3], df.x[df.irrep == 9])"
   ]
  },
  {
   "cell_type": "code",
   "execution_count": 864,
   "metadata": {},
   "outputs": [
    {
     "data": {
      "text/plain": [
       "(array([674]),)"
      ]
     },
     "execution_count": 864,
     "metadata": {},
     "output_type": "execute_result"
    }
   ],
   "source": [
    "np.where(df.y[df.irrep == 9] < -80)"
   ]
  },
  {
   "cell_type": "markdown",
   "metadata": {},
   "source": [
    "I'm assuming you know the function $f(x) = y$, but here I'm just going to approximate it with polynomials of $x$.\n",
    "\n",
    "$$\\hat{f}(x_i) = \\alpha_0 + \\alpha_1 * x_i + \\alpha_2 * x_i^2 + \\alpha_3 * x_i^3$$"
   ]
  },
  {
   "cell_type": "code",
   "execution_count": 754,
   "metadata": {},
   "outputs": [],
   "source": [
    "def poly_reg(x, coeffs):\n",
    "    x_poly = np.power(x.reshape(-1, 1), [0, 1, 2, 3, 4])\n",
    "    \n",
    "    return x_poly.dot(coeffs)"
   ]
  },
  {
   "cell_type": "code",
   "execution_count": 755,
   "metadata": {},
   "outputs": [],
   "source": [
    "funs = {}\n",
    "delta_funs = {}\n",
    "for irrep in irreps:\n",
    "    sub_df = df[df.irrep == irrep]\n",
    "    x_poly = np.power(sub_df.x, [0, 1, 2, 3])\n",
    "    ols_est = sm.OLS(sub_df.y, x_poly_w_const).fit()\n",
    "    # It's important to define the defaults to force an evaluation in Python\n",
    "    # Otherwise lazy evaluation will later only use the last set of parameters\n",
    "    def fun_temp(x, coeff=ols_est.params):\n",
    "        return(cubic_reg(x, coeff))\n",
    "    #funs.update({irrep: lambda x: cubic_reg(x, coeffs=ols_est.params)})\n",
    "    funs.update({irrep: fun_temp})\n",
    "    \n",
    "    def fun_temp(x, coeff=ols_est.params):\n",
    "        return(cubic_reg(x, coeff))\n",
    "    #funs.update({irrep: lambda x: cubic_reg(x, coeffs=ols_est.params)})\n",
    "    funs.update({irrep: fun_temp})\n",
    "    "
   ]
  },
  {
   "cell_type": "markdown",
   "metadata": {},
   "source": [
    "#### TODO: Validate the regression fits"
   ]
  },
  {
   "cell_type": "markdown",
   "metadata": {},
   "source": [
    "## Penalizing regression by distance along the curve\n",
    "\n",
    "You have a deterministic transform for:\n",
    "$y = f(x)$\n",
    "\n",
    "And afterwards, you want to fit the regression by minimizing the squared distance between the line and the distance to $f(\\bar{x})$ **along** $f()$.\n",
    "\n",
    "We can then derive the gradient numerically to apply the Delta method."
   ]
  },
  {
   "cell_type": "code",
   "execution_count": 756,
   "metadata": {},
   "outputs": [],
   "source": [
    "def intersect(x, fun1, lin_fun2):\n",
    "    if not isinstance(x, np.ndarray):\n",
    "        x = np.array([x])\n",
    "    out = np.empty(len(x))\n",
    "        \n",
    "    for i, xi in enumerate(x):\n",
    "        opt = minimize(lambda z: np.power(fun1(z) - lin_fun2(z), 2),\n",
    "                       xi, method=\"Nelder-Mead\", options={\"xatol\":1e-8})\n",
    "        assert opt.fun < 1e-8 or opt.success \n",
    "        out[i] = opt.x\n",
    "        \n",
    "    return out"
   ]
  },
  {
   "cell_type": "code",
   "execution_count": 757,
   "metadata": {},
   "outputs": [],
   "source": [
    "def calc_length(point1, point2, fun, tol=1e-4):\n",
    "    if point2 < point1:\n",
    "        point_temp = point1\n",
    "        point1 = point2\n",
    "        point2 = point_temp\n",
    "        \n",
    "    steps = np.ceil((point2 - point1) / tol)\n",
    "    xs1 = np.linspace(point1, point2, int(steps))\n",
    "    xs2 = xs1\n",
    "    dist = 0\n",
    "    for x1, x2 in zip(xs1[:-1], xs2[1:]):\n",
    "        x_sq_dist = np.power(x1 - x2, 2)\n",
    "        y_sq_dist = np.power(fun(x2) - fun(x1), 2)\n",
    "        dist += np.sqrt(x_sq_dist + y_sq_dist)\n",
    "        \n",
    "    return dist"
   ]
  },
  {
   "cell_type": "code",
   "execution_count": 758,
   "metadata": {},
   "outputs": [],
   "source": [
    "funs = [funs[i] for i in rough_avgs.index]\n",
    "eval_locs = rough_avgs.x\n",
    "par = ols_start.params"
   ]
  },
  {
   "cell_type": "code",
   "execution_count": 804,
   "metadata": {},
   "outputs": [],
   "source": [
    "def obj(par, eval_locs, funs, points=[]):\n",
    "    # print(par)\n",
    "    # points=[] is purely for debugging purposes\n",
    "    def lin_fun(x):\n",
    "        return par[0] + x * par[1]\n",
    "\n",
    "    dists = []\n",
    "    for xi, fi in zip(eval_locs, funs):\n",
    "        new_x = intersect(np.array([xi]), fi, lin_fun)\n",
    "        point = [new_x, fi(new_x)]\n",
    "        points.append(point)\n",
    "        dist = calc_length(new_x, xi, fi)\n",
    "        # TODO: needs to weigh by the standard deviation\n",
    "        \n",
    "        dists.append(np.power(dist, 2))\n",
    "\n",
    "    return np.sum(dists)"
   ]
  },
  {
   "cell_type": "code",
   "execution_count": 760,
   "metadata": {},
   "outputs": [],
   "source": [
    "rough_avgs = df.groupby(\"irrep\").mean()\n",
    "rough_avg_x = sm.add_constant(rough_avgs.x)\n",
    "ordered_funs = [funs[i] for i in rough_avgs.index]\n",
    "ols_start = sm.OLS(rough_avgs.y, rough_avg_x).fit()"
   ]
  },
  {
   "cell_type": "code",
   "execution_count": 761,
   "metadata": {},
   "outputs": [
    {
     "data": {
      "text/html": [
       "<div>\n",
       "<style scoped>\n",
       "    .dataframe tbody tr th:only-of-type {\n",
       "        vertical-align: middle;\n",
       "    }\n",
       "\n",
       "    .dataframe tbody tr th {\n",
       "        vertical-align: top;\n",
       "    }\n",
       "\n",
       "    .dataframe thead th {\n",
       "        text-align: right;\n",
       "    }\n",
       "</style>\n",
       "<table border=\"1\" class=\"dataframe\">\n",
       "  <thead>\n",
       "    <tr style=\"text-align: right;\">\n",
       "      <th></th>\n",
       "      <th>x</th>\n",
       "      <th>y</th>\n",
       "    </tr>\n",
       "    <tr>\n",
       "      <th>irrep</th>\n",
       "      <th></th>\n",
       "      <th></th>\n",
       "    </tr>\n",
       "  </thead>\n",
       "  <tbody>\n",
       "    <tr>\n",
       "      <th>0</th>\n",
       "      <td>-0.008523</td>\n",
       "      <td>0.261960</td>\n",
       "    </tr>\n",
       "    <tr>\n",
       "      <th>1</th>\n",
       "      <td>0.142788</td>\n",
       "      <td>0.560477</td>\n",
       "    </tr>\n",
       "    <tr>\n",
       "      <th>2</th>\n",
       "      <td>0.021450</td>\n",
       "      <td>0.161919</td>\n",
       "    </tr>\n",
       "  </tbody>\n",
       "</table>\n",
       "</div>"
      ],
      "text/plain": [
       "              x         y\n",
       "irrep                    \n",
       "0     -0.008523  0.261960\n",
       "1      0.142788  0.560477\n",
       "2      0.021450  0.161919"
      ]
     },
     "execution_count": 761,
     "metadata": {},
     "output_type": "execute_result"
    }
   ],
   "source": [
    "rough_avgs.head(3)"
   ]
  },
  {
   "cell_type": "code",
   "execution_count": 762,
   "metadata": {},
   "outputs": [
    {
     "data": {
      "text/plain": [
       "0.21579597225468106"
      ]
     },
     "execution_count": 762,
     "metadata": {},
     "output_type": "execute_result"
    }
   ],
   "source": [
    "points = []\n",
    "obj(ols_start.params, rough_avgs.x, ordered_funs, points)"
   ]
  },
  {
   "cell_type": "code",
   "execution_count": 501,
   "metadata": {},
   "outputs": [
    {
     "data": {
      "text/plain": [
       "[[array([-0.01070764]), array([0.1643154])],\n",
       " [array([0.14585534]), array([0.61282613])],\n",
       " [array([0.02687983]), array([0.27039667])]]"
      ]
     },
     "execution_count": 501,
     "metadata": {},
     "output_type": "execute_result"
    }
   ],
   "source": [
    "points[:3]"
   ]
  },
  {
   "cell_type": "markdown",
   "metadata": {},
   "source": [
    "#### Check the functions are finding the right spot"
   ]
  },
  {
   "cell_type": "code",
   "execution_count": 765,
   "metadata": {},
   "outputs": [
    {
     "data": {
      "text/plain": [
       "(-2.0768685455309677, 2.997785081042233)"
      ]
     },
     "execution_count": 765,
     "metadata": {},
     "output_type": "execute_result"
    },
    {
     "data": {
      "image/png": "[encoded data removed]",
      "text/plain": [
       "<Figure size 432x288 with 1 Axes>"
      ]
     },
     "metadata": {
      "needs_background": "light"
     },
     "output_type": "display_data"
    }
   ],
   "source": [
    "xy = np.concatenate(points, 1)\n",
    "# Quick check on the points\n",
    "xs = np.linspace(df.x.min(), df.x.max(), 1000)\n",
    "plt.scatter(df.x, df.y)\n",
    "plt.plot(xs, ols_start.params[0] + ols_start.params[1] * xs)\n",
    "plt.scatter(xy[0, :], xy[1, :])\n",
    "plt.scatter(rough_avgs.x, [funs[i](rough_avgs.loc[i].x) for i in rough_avgs.index])\n",
    "plt.ylim(np.percentile(df.y, [.1, 99.9]))\n"
   ]
  },
  {
   "cell_type": "code",
   "execution_count": 503,
   "metadata": {},
   "outputs": [],
   "source": []
  },
  {
   "cell_type": "code",
   "execution_count": 766,
   "metadata": {},
   "outputs": [
    {
     "data": {
      "text/plain": [
       "8.926475048065186"
      ]
     },
     "execution_count": 766,
     "metadata": {},
     "output_type": "execute_result"
    }
   ],
   "source": [
    "a = time()\n",
    "opt = minimize(obj, ols_start.params,\n",
    "               args=(rough_avgs.x, ordered_funs),\n",
    "               method='Nelder-Mead', options={\"xatol\":1e-8})\n",
    "time() - a"
   ]
  },
  {
   "cell_type": "code",
   "execution_count": 767,
   "metadata": {},
   "outputs": [
    {
     "data": {
      "text/plain": [
       " final_simplex: (array([[0.20253239, 2.60582149],\n",
       "       [0.20253239, 2.60582149],\n",
       "       [0.20253239, 2.60582148]]), array([0.20432228, 0.20432228, 0.20432228]))\n",
       "           fun: 0.2043222789626963\n",
       "       message: 'Optimization terminated successfully.'\n",
       "          nfev: 116\n",
       "           nit: 49\n",
       "        status: 0\n",
       "       success: True\n",
       "             x: array([0.20253239, 2.60582149])"
      ]
     },
     "execution_count": 767,
     "metadata": {},
     "output_type": "execute_result"
    }
   ],
   "source": [
    "opt"
   ]
  },
  {
   "cell_type": "code",
   "execution_count": 768,
   "metadata": {},
   "outputs": [],
   "source": [
    "best_est = opt.x"
   ]
  },
  {
   "cell_type": "code",
   "execution_count": 769,
   "metadata": {},
   "outputs": [],
   "source": [
    "def x_vec_to_slope(x_vec):\n",
    "    opt = minimize(obj, ols_start.params,\n",
    "                   args=(x_vec, ordered_funs),\n",
    "                   method=\"Nelder-Mead\", options={\"xatol\":1e-8})\n",
    "    assert opt.success\n",
    "    return(opt.x[1])\n",
    "\n",
    "def x_vec_to_intercept(x_vec):\n",
    "    opt = minimize(obj, ols_start.params,\n",
    "                   args=(x_vec, ordered_funs),\n",
    "                   method=\"Nelder-Mead\", options={\"xatol\":1e-8})\n",
    "    assert opt.success\n",
    "    return(opt.x[0])"
   ]
  },
  {
   "cell_type": "code",
   "execution_count": 770,
   "metadata": {},
   "outputs": [],
   "source": [
    "grad_slope = approx_fprime(rough_avgs.x, x_vec_to_slope, 1e-4)"
   ]
  },
  {
   "cell_type": "code",
   "execution_count": 771,
   "metadata": {},
   "outputs": [
    {
     "data": {
      "text/plain": [
       "array([-47.17083127,  11.3464356 ,  -6.9353569 ,  40.35427215,\n",
       "       -27.60462093,  23.81951807, -58.19845711,   9.97291737,\n",
       "        -4.40278996, -84.5441324 ,  12.66810617, -12.60161158,\n",
       "        -2.32540169,  41.72806905,  -6.13834501,   7.64363975])"
      ]
     },
     "execution_count": 771,
     "metadata": {},
     "output_type": "execute_result"
    }
   ],
   "source": [
    "grad_slope"
   ]
  },
  {
   "cell_type": "code",
   "execution_count": 772,
   "metadata": {},
   "outputs": [],
   "source": [
    "grad_inter = approx_fprime(rough_avgs.x, x_vec_to_intercept, 1e-4)"
   ]
  },
  {
   "cell_type": "code",
   "execution_count": 773,
   "metadata": {},
   "outputs": [
    {
     "data": {
      "text/plain": [
       "array([ 6.80896052, -0.60887598,  1.65241163, -1.29080286,  4.41999339,\n",
       "       -0.60901122,  8.28526701,  0.19180278,  1.6425481 , 12.03712695,\n",
       "        0.56858082,  2.33610664,  1.86797843, -1.42536475,  2.24734517,\n",
       "        0.24294447])"
      ]
     },
     "execution_count": 773,
     "metadata": {},
     "output_type": "execute_result"
    }
   ],
   "source": [
    "grad_inter"
   ]
  },
  {
   "cell_type": "code",
   "execution_count": 774,
   "metadata": {},
   "outputs": [],
   "source": [
    "grad = np.stack([grad_inter, grad_slope]).T"
   ]
  },
  {
   "cell_type": "code",
   "execution_count": 775,
   "metadata": {},
   "outputs": [
    {
     "data": {
      "text/plain": [
       "(16, 2)"
      ]
     },
     "execution_count": 775,
     "metadata": {},
     "output_type": "execute_result"
    }
   ],
   "source": [
    "grad.shape"
   ]
  },
  {
   "cell_type": "markdown",
   "metadata": {},
   "source": [
    "#### Delta Method says\n",
    "\n",
    "If you have\n",
    "$\\begin{bmatrix}\\bar{X}_1 \\\\ \\vdots \\\\ \\bar{X}_k \\end{bmatrix} \\to MVN\\left(\\begin{bmatrix}\\mu_1 \\\\ \\vdots \\\\ \\mu_k \\end{bmatrix}, \\Sigma\\right)$\n",
    "\n",
    "Which you seem to have, then\n",
    "\n",
    "$$g\\left(\\begin{bmatrix}\\bar{X}_1 \\\\ \\vdots \\\\ \\bar{X}_k \\end{bmatrix}\\right) - g\\left(\\begin{bmatrix}\\mu_1 \\\\ \\vdots \\\\ \\mu_k \\end{bmatrix}\\right) \\stackrel{n\\to \\infty}{\\Rightarrow} N\\left(0, \\underbrace{\\nabla g\\binom{\\mu_x(e)}{\\mu_y(e)}^T \\Sigma \\nabla g\\binom{\\mu_x(e)}{\\mu_y(e)}}_{=\\sigma^2_g(e)}\\right)$$"
   ]
  },
  {
   "cell_type": "code",
   "execution_count": 776,
   "metadata": {},
   "outputs": [
    {
     "data": {
      "text/html": [
       "<div>\n",
       "<style scoped>\n",
       "    .dataframe tbody tr th:only-of-type {\n",
       "        vertical-align: middle;\n",
       "    }\n",
       "\n",
       "    .dataframe tbody tr th {\n",
       "        vertical-align: top;\n",
       "    }\n",
       "\n",
       "    .dataframe thead th {\n",
       "        text-align: right;\n",
       "    }\n",
       "</style>\n",
       "<table border=\"1\" class=\"dataframe\">\n",
       "  <thead>\n",
       "    <tr style=\"text-align: right;\">\n",
       "      <th></th>\n",
       "      <th>x</th>\n",
       "      <th>y</th>\n",
       "      <th>irrep</th>\n",
       "    </tr>\n",
       "  </thead>\n",
       "  <tbody>\n",
       "    <tr>\n",
       "      <th>997</th>\n",
       "      <td>0.088338</td>\n",
       "      <td>0.455209</td>\n",
       "      <td>15</td>\n",
       "    </tr>\n",
       "    <tr>\n",
       "      <th>998</th>\n",
       "      <td>0.085159</td>\n",
       "      <td>0.403970</td>\n",
       "      <td>15</td>\n",
       "    </tr>\n",
       "    <tr>\n",
       "      <th>999</th>\n",
       "      <td>0.075580</td>\n",
       "      <td>0.281854</td>\n",
       "      <td>15</td>\n",
       "    </tr>\n",
       "  </tbody>\n",
       "</table>\n",
       "</div>"
      ],
      "text/plain": [
       "            x         y  irrep\n",
       "997  0.088338  0.455209     15\n",
       "998  0.085159  0.403970     15\n",
       "999  0.075580  0.281854     15"
      ]
     },
     "execution_count": 776,
     "metadata": {},
     "output_type": "execute_result"
    }
   ],
   "source": [
    "df.tail(3)"
   ]
  },
  {
   "cell_type": "code",
   "execution_count": 778,
   "metadata": {},
   "outputs": [],
   "source": [
    "delta_cov = grad.T.dot(x_cov).dot(grad)"
   ]
  },
  {
   "cell_type": "code",
   "execution_count": 779,
   "metadata": {},
   "outputs": [],
   "source": [
    "L = np.linalg.cholesky(delta_cov)\n",
    "xs = np.linspace(df.x.min(), df.x.max(), 500)\n",
    "pred_vals = []\n",
    "for i in range(sim_num):\n",
    "    noise = np.random.normal(0, 1, 2)\n",
    "    coeff_sample = L.dot(noise) + best_est\n",
    "    pred_vals.append(coeff_sample[0] + xs * coeff_sample[1])\n",
    "    \n",
    "pred_vals_df = np.stack(pred_vals)"
   ]
  },
  {
   "cell_type": "code",
   "execution_count": 780,
   "metadata": {},
   "outputs": [
    {
     "data": {
      "text/plain": [
       "(10, 500)"
      ]
     },
     "execution_count": 780,
     "metadata": {},
     "output_type": "execute_result"
    }
   ],
   "source": [
    "pred_vals_df.shape"
   ]
  },
  {
   "cell_type": "code",
   "execution_count": 781,
   "metadata": {},
   "outputs": [],
   "source": [
    "bounds = np.apply_along_axis(lambda x: np.percentile(x, [2.5, 97.5]),\n",
    "                             0, pred_vals_df)"
   ]
  },
  {
   "cell_type": "code",
   "execution_count": 782,
   "metadata": {},
   "outputs": [
    {
     "data": {
      "text/plain": [
       "(2, 500)"
      ]
     },
     "execution_count": 782,
     "metadata": {},
     "output_type": "execute_result"
    }
   ],
   "source": [
    "bounds.shape"
   ]
  },
  {
   "cell_type": "code",
   "execution_count": 783,
   "metadata": {},
   "outputs": [
    {
     "data": {
      "text/plain": [
       "(-2.0768685455309677, 2.997785081042233)"
      ]
     },
     "execution_count": 783,
     "metadata": {},
     "output_type": "execute_result"
    },
    {
     "data": {
      "image/png": "[encoded data removed]",
      "text/plain": [
       "<Figure size 432x288 with 1 Axes>"
      ]
     },
     "metadata": {
      "needs_background": "light"
     },
     "output_type": "display_data"
    }
   ],
   "source": [
    "plt.scatter(df.x, df.y)\n",
    "plt.plot(xs, best_est[0] + best_est[1] * xs)\n",
    "plt.scatter(rough_avgs.x, [funs[i](rough_avgs.loc[i].x) for i in rough_avgs.index])\n",
    "plt.plot(xs, bounds[0, :])\n",
    "plt.plot(xs, bounds[1, :])\n",
    "plt.ylim(np.percentile(df.y, [.1, 99.9]))"
   ]
  },
  {
   "cell_type": "code",
   "execution_count": null,
   "metadata": {},
   "outputs": [],
   "source": []
  },
  {
   "cell_type": "markdown",
   "metadata": {},
   "source": [
    "### I don't really trust the numerically derived gradient...."
   ]
  },
  {
   "cell_type": "code",
   "execution_count": 795,
   "metadata": {},
   "outputs": [],
   "source": [
    "def x_vec_to_params(x_vec):\n",
    "    opt = minimize(obj, ols_start.params,\n",
    "                   args=(x_vec, ordered_funs),\n",
    "                   method=\"Nelder-Mead\", options={\"xatol\":1e-8})\n",
    "    assert opt.success\n",
    "    return opt.x"
   ]
  },
  {
   "cell_type": "code",
   "execution_count": 903,
   "metadata": {},
   "outputs": [],
   "source": [
    "sim_num = 100\n",
    "boot_params = []\n",
    "for i in range(sim_num):\n",
    "    boot_inds = np.random.choice(1000, 1, replace=True)\n",
    "    boot_avg = []\n",
    "    for irrep, sub_df in df.groupby(\"irrep\"):\n",
    "        boot_avg.append(sub_df.iloc[boot_inds, :].x)\n",
    "    boot_param = x_vec_to_params(np.concatenate(boot_avg))\n",
    "    boot_params.append(boot_param)"
   ]
  },
  {
   "cell_type": "code",
   "execution_count": 904,
   "metadata": {},
   "outputs": [],
   "source": [
    "pred_vals = []\n",
    "xs = np.linspace(df.x.min(), df.x.max(), 500)\n",
    "\n",
    "for i in range(sim_num):\n",
    "    boot_param = boot_params[i]\n",
    "    pred_vals.append(boot_param[0] + xs * boot_param[1])"
   ]
  },
  {
   "cell_type": "code",
   "execution_count": 905,
   "metadata": {},
   "outputs": [],
   "source": [
    "pred_vals_df = np.stack(pred_vals)\n",
    "bounds = np.apply_along_axis(lambda x: np.percentile(x, [10, 90]),\n",
    "                             0, pred_vals_df)"
   ]
  },
  {
   "cell_type": "code",
   "execution_count": 906,
   "metadata": {},
   "outputs": [
    {
     "data": {
      "text/plain": [
       "[<matplotlib.lines.Line2D at 0x7febe34c1ad0>]"
      ]
     },
     "execution_count": 906,
     "metadata": {},
     "output_type": "execute_result"
    },
    {
     "data": {
      "image/png": "[encoded data removed]",
      "text/plain": [
       "<Figure size 432x288 with 1 Axes>"
      ]
     },
     "metadata": {
      "needs_background": "light"
     },
     "output_type": "display_data"
    }
   ],
   "source": [
    "#plt.scatter(df.x, df.y)\n",
    "plt.plot(xs, best_est[0] + best_est[1] * xs)\n",
    "plt.scatter(rough_avgs.x, [funs[i](rough_avgs.loc[i].x) for i in rough_avgs.index])\n",
    "plt.plot(xs, bounds[0, :])\n",
    "plt.plot(xs, bounds[1, :])\n",
    "#plt.ylim(np.percentile(df.y, [.1, 99.9]))"
   ]
  },
  {
   "cell_type": "code",
   "execution_count": null,
   "metadata": {},
   "outputs": [],
   "source": []
  },
  {
   "cell_type": "code",
   "execution_count": null,
   "metadata": {},
   "outputs": [],
   "source": []
  },
  {
   "cell_type": "code",
   "execution_count": null,
   "metadata": {},
   "outputs": [],
   "source": []
  },
  {
   "cell_type": "code",
   "execution_count": null,
   "metadata": {},
   "outputs": [],
   "source": []
  },
  {
   "cell_type": "code",
   "execution_count": null,
   "metadata": {},
   "outputs": [],
   "source": []
  }
 ],
 "metadata": {
  "kernelspec": {
   "display_name": "Python 3",
   "language": "python",
   "name": "python3"
  },
  "language_info": {
   "codemirror_mode": {
    "name": "ipython",
    "version": 3
   },
   "file_extension": ".py",
   "mimetype": "text/x-python",
   "name": "python",
   "nbconvert_exporter": "python",
   "pygments_lexer": "ipython3",
   "version": "3.7.6"
  }
 },
 "nbformat": 4,
 "nbformat_minor": 4
}
