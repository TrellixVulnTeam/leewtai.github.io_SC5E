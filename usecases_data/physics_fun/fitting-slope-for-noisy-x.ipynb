{
 "cells": [
  {
   "cell_type": "markdown",
   "metadata": {},
   "source": [
    "This notebook is structured as:\n",
    "- Showing that WLS is not the correct approach even with idealized data"
   ]
  },
  {
   "cell_type": "code",
   "execution_count": 14,
   "metadata": {},
   "outputs": [],
   "source": [
    "%matplotlib inline "
   ]
  },
  {
   "cell_type": "code",
   "execution_count": 146,
   "metadata": {},
   "outputs": [],
   "source": [
    "import matplotlib.pyplot as plt\n",
    "import numpy as np\n",
    "import statsmodels.api as sm\n",
    "\n",
    "from scipy import odr"
   ]
  },
  {
   "cell_type": "markdown",
   "metadata": {},
   "source": [
    "## Setup"
   ]
  },
  {
   "cell_type": "markdown",
   "metadata": {},
   "source": [
    "Below is a simulation where we have \n",
    "$$\\mu_y(e) = \\alpha_0 + \\alpha_1 \\mu_x(e)$$\n",
    "where $e$ stands for different experiments. Let's pretend we only have $k$ measurement (configurations) per experiment but we have:\n",
    "where\n",
    "$$\\binom{x_i(e)}{y_i(e)} \\sim MVN\\left(\\binom{\\mu_x(e)}{\\mu_y(e)}, \\underbrace{\\begin{bmatrix} \\sigma^2_x & 0 \\\\ 0 & \\sigma^2_y \\end{bmatrix}}_{=\\Sigma}\\right)$$"
   ]
  },
  {
   "cell_type": "code",
   "execution_count": 269,
   "metadata": {},
   "outputs": [],
   "source": [
    "num_e = 20\n",
    "num_config = 100"
   ]
  },
  {
   "cell_type": "code",
   "execution_count": 270,
   "metadata": {},
   "outputs": [],
   "source": [
    "e_range = np.linspace(0, 100, num_e)"
   ]
  },
  {
   "cell_type": "markdown",
   "metadata": {},
   "source": [
    "#### Define the data generation process"
   ]
  },
  {
   "cell_type": "markdown",
   "metadata": {},
   "source": [
    "First define the truth we want to recover with data"
   ]
  },
  {
   "cell_type": "code",
   "execution_count": 271,
   "metadata": {},
   "outputs": [],
   "source": [
    "alpha0 = 1\n",
    "alpha1 = 2\n",
    "def mu_x(e_i):\n",
    "    return e_i\n",
    "def mu_y(mu_x):\n",
    "    return alpha1 * mu_x + alpha0"
   ]
  },
  {
   "cell_type": "code",
   "execution_count": 272,
   "metadata": {},
   "outputs": [],
   "source": [
    "mu_xs = [mu_x(e_i) for e_i in e_range]\n",
    "mu_ys = [mu_y(mu_xi) for mu_xi in mu_xs]"
   ]
  },
  {
   "cell_type": "code",
   "execution_count": 273,
   "metadata": {},
   "outputs": [],
   "source": [
    "noise_sigma = 10"
   ]
  },
  {
   "cell_type": "markdown",
   "metadata": {},
   "source": [
    "Our data is generated as a contaminated version of the truth"
   ]
  },
  {
   "cell_type": "code",
   "execution_count": 274,
   "metadata": {},
   "outputs": [],
   "source": [
    "x = np.stack([np.random.normal(mu_xi, noise_sigma, num_config)\n",
    "              for mu_xi in mu_xs])\n",
    "y = np.stack([np.random.normal(mu_yi, noise_sigma, num_config)\n",
    "              for mu_yi in mu_ys])"
   ]
  },
  {
   "cell_type": "code",
   "execution_count": 275,
   "metadata": {},
   "outputs": [
    {
     "data": {
      "text/plain": [
       "[<matplotlib.lines.Line2D at 0x7ff47c3f8090>]"
      ]
     },
     "execution_count": 275,
     "metadata": {},
     "output_type": "execute_result"
    },
    {
     "data": {
      "image/png": "[encoded data removed]",
      "text/plain": [
       "<Figure size 432x288 with 1 Axes>"
      ]
     },
     "metadata": {
      "needs_background": "light"
     },
     "output_type": "display_data"
    }
   ],
   "source": [
    "plt.scatter(x.reshape(-1), y.reshape(-1))\n",
    "plt.plot(mu_xs, mu_ys, color='red')"
   ]
  },
  {
   "cell_type": "markdown",
   "metadata": {},
   "source": [
    "Define how data is related to the truth, the usual assumption is that data is an unbiased measurement of the truth"
   ]
  },
  {
   "cell_type": "markdown",
   "metadata": {},
   "source": [
    "#### It's common to use linear regression to estimate the line"
   ]
  },
  {
   "cell_type": "code",
   "execution_count": 276,
   "metadata": {},
   "outputs": [],
   "source": [
    "num_sim = 1000\n",
    "coeffs = []\n",
    "for i in range(num_sim):\n",
    "    sim_x = np.concatenate(\n",
    "        [np.random.normal(mu_xi, noise_sigma, num_config)\n",
    "         for mu_xi in mu_xs])\n",
    "    sim_y = np.concatenate(\n",
    "        [np.random.normal(mu_yi, noise_sigma, num_config)\n",
    "         for mu_yi in mu_ys])\n",
    "    ols = sm.OLS(sim_y, sm.add_constant(sim_x)).fit()\n",
    "    coeffs.append(ols.params)"
   ]
  },
  {
   "cell_type": "code",
   "execution_count": 277,
   "metadata": {},
   "outputs": [
    {
     "data": {
      "text/plain": [
       "[<matplotlib.lines.Line2D at 0x7ff47d3bc610>]"
      ]
     },
     "execution_count": 277,
     "metadata": {},
     "output_type": "execute_result"
    },
    {
     "data": {
      "image/png": "[encoded data removed]",
      "text/plain": [
       "<Figure size 432x288 with 1 Axes>"
      ]
     },
     "metadata": {
      "needs_background": "light"
     },
     "output_type": "display_data"
    }
   ],
   "source": [
    "poss_x = np.linspace(np.min(x), np.max(x), 100)\n",
    "for i in range(num_sim):\n",
    "    plt.plot(poss_x,\n",
    "             coeffs[i][0] + coeffs[i][1] * poss_x,\n",
    "             color='black')\n",
    "    \n",
    "plt.plot(mu_xs, mu_ys, color='red')"
   ]
  },
  {
   "cell_type": "code",
   "execution_count": 278,
   "metadata": {},
   "outputs": [],
   "source": [
    "coeffs_mat = np.stack(coeffs)"
   ]
  },
  {
   "cell_type": "code",
   "execution_count": 279,
   "metadata": {},
   "outputs": [
    {
     "data": {
      "text/plain": [
       "array([10.76178876,  1.80468821])"
      ]
     },
     "execution_count": 279,
     "metadata": {},
     "output_type": "execute_result"
    }
   ],
   "source": [
    "np.apply_along_axis(np.mean, 0, coeffs_mat)"
   ]
  },
  {
   "cell_type": "markdown",
   "metadata": {},
   "source": [
    "Recall that the true values, we want to estimate are:"
   ]
  },
  {
   "cell_type": "code",
   "execution_count": 280,
   "metadata": {},
   "outputs": [
    {
     "data": {
      "text/plain": [
       "array([1, 2])"
      ]
     },
     "execution_count": 280,
     "metadata": {},
     "output_type": "execute_result"
    }
   ],
   "source": [
    "np.array([alpha0, alpha1])"
   ]
  },
  {
   "cell_type": "markdown",
   "metadata": {},
   "source": [
    "#### Is it bias or variance?"
   ]
  },
  {
   "cell_type": "code",
   "execution_count": 281,
   "metadata": {},
   "outputs": [
    {
     "data": {
      "text/plain": [
       "array([0.83376134, 0.01372288])"
      ]
     },
     "execution_count": 281,
     "metadata": {},
     "output_type": "execute_result"
    }
   ],
   "source": [
    "np.apply_along_axis(np.std, 0, coeffs_mat)"
   ]
  },
  {
   "cell_type": "markdown",
   "metadata": {},
   "source": [
    "answer: Definitely bias given the small-ish standard deviatiosn."
   ]
  },
  {
   "cell_type": "markdown",
   "metadata": {},
   "source": [
    "#### What to do? Orthogonal Regression"
   ]
  },
  {
   "cell_type": "code",
   "execution_count": 282,
   "metadata": {},
   "outputs": [],
   "source": [
    "def linear_fun(alpha_hat, x):\n",
    "    return alpha_hat[0] + alpha_hat[1] * x\n",
    "\n",
    "lin_mod = odr.Model(linear_fun)"
   ]
  },
  {
   "cell_type": "code",
   "execution_count": 283,
   "metadata": {},
   "outputs": [],
   "source": [
    "coeffs = []\n",
    "for i in range(num_sim):\n",
    "    sim_x = np.stack(\n",
    "        [np.random.normal(mu_xi, noise_sigma, num_config)\n",
    "         for mu_xi in mu_xs])\n",
    "    sim_y = np.stack(\n",
    "        [np.random.normal(mu_yi, noise_sigma, num_config)\n",
    "         for mu_yi in mu_ys])\n",
    "    sx = np.mean(np.apply_along_axis(np.std, 1, sim_x))\n",
    "    sy = np.mean(np.apply_along_axis(np.std, 1, sim_y))\n",
    "    sim_x_flat = sim_x.reshape(-1)\n",
    "    sim_y_flat = sim_y.reshape(-1)\n",
    "    mydata = odr.RealData(sim_x_flat, sim_y_flat, sx=sx, sy=sy)\n",
    "    # starting values\n",
    "    ols = sm.OLS(sim_y_flat,\n",
    "                 sm.add_constant(sim_x_flat)).fit()\n",
    "    myodr = odr.ODR(mydata, lin_mod, beta0=ols.params).run()\n",
    "    coeffs.append(myodr.beta)"
   ]
  },
  {
   "cell_type": "code",
   "execution_count": 284,
   "metadata": {},
   "outputs": [
    {
     "data": {
      "text/plain": [
       "[<matplotlib.lines.Line2D at 0x7ff47f13ed50>]"
      ]
     },
     "execution_count": 284,
     "metadata": {},
     "output_type": "execute_result"
    },
    {
     "data": {
      "image/png": "[encoded data removed]",
      "text/plain": [
       "<Figure size 432x288 with 1 Axes>"
      ]
     },
     "metadata": {
      "needs_background": "light"
     },
     "output_type": "display_data"
    }
   ],
   "source": [
    "for i in range(num_sim):\n",
    "    plt.plot(poss_x,\n",
    "             coeffs[i][0] + coeffs[i][1] * poss_x,\n",
    "             color='black')\n",
    "    \n",
    "plt.plot(mu_xs, mu_ys, color='red')"
   ]
  },
  {
   "cell_type": "code",
   "execution_count": null,
   "metadata": {},
   "outputs": [],
   "source": []
  },
  {
   "cell_type": "markdown",
   "metadata": {},
   "source": [
    "#### TODO: Deal with Recycled Bootstrap samples and the cot() transformation"
   ]
  },
  {
   "cell_type": "code",
   "execution_count": null,
   "metadata": {},
   "outputs": [],
   "source": []
  }
 ],
 "metadata": {
  "kernelspec": {
   "display_name": "Python 3",
   "language": "python",
   "name": "python3"
  },
  "language_info": {
   "codemirror_mode": {
    "name": "ipython",
    "version": 3
   },
   "file_extension": ".py",
   "mimetype": "text/x-python",
   "name": "python",
   "nbconvert_exporter": "python",
   "pygments_lexer": "ipython3",
   "version": "3.7.6"
  }
 },
 "nbformat": 4,
 "nbformat_minor": 4
}
