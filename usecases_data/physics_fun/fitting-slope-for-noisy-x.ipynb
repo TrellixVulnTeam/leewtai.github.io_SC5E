{
 "cells": [
  {
   "cell_type": "markdown",
   "metadata": {},
   "source": [
    "This notebook is structured as:\n",
    "- Showing that WLS is not the correct approach even with idealized data"
   ]
  },
  {
   "cell_type": "code",
   "execution_count": 14,
   "metadata": {},
   "outputs": [],
   "source": [
    "%matplotlib inline "
   ]
  },
  {
   "cell_type": "code",
   "execution_count": 146,
   "metadata": {},
   "outputs": [],
   "source": [
    "import matplotlib.pyplot as plt\n",
    "import numpy as np\n",
    "import statsmodels.api as sm\n",
    "\n",
    "from scipy import odr"
   ]
  },
  {
   "cell_type": "markdown",
   "metadata": {},
   "source": [
    "## Setup"
   ]
  },
  {
   "cell_type": "markdown",
   "metadata": {},
   "source": [
    "Below is a simulation where we have \n",
    "$$\\mu_y(e) = \\alpha_0 + \\alpha_1 \\mu_x(e)$$\n",
    "where $e$ stands for different experiments. Let's pretend we only have $k$ measurement (configurations) per experiment but we have:\n",
    "where\n",
    "$$\\binom{x_i(e)}{y_i(e)} \\sim MVN\\left(\\binom{\\mu_x(e)}{\\mu_y(e)}, \\underbrace{\\begin{bmatrix} \\sigma^2_x & 0 \\\\ 0 & \\sigma^2_y \\end{bmatrix}}_{=\\Sigma}\\right)$$"
   ]
  },
  {
   "cell_type": "code",
   "execution_count": 269,
   "metadata": {},
   "outputs": [],
   "source": [
    "num_e = 20\n",
    "num_config = 100"
   ]
  },
  {
   "cell_type": "code",
   "execution_count": 270,
   "metadata": {},
   "outputs": [],
   "source": [
    "e_range = np.linspace(0, 100, num_e)"
   ]
  },
  {
   "cell_type": "markdown",
   "metadata": {},
   "source": [
    "#### Define the data generation process"
   ]
  },
  {
   "cell_type": "markdown",
   "metadata": {},
   "source": [
    "First define the truth we want to recover with data"
   ]
  },
  {
   "cell_type": "code",
   "execution_count": 271,
   "metadata": {},
   "outputs": [],
   "source": [
    "alpha0 = 1\n",
    "alpha1 = 2\n",
    "def mu_x(e_i):\n",
    "    return e_i\n",
    "def mu_y(mu_x):\n",
    "    return alpha1 * mu_x + alpha0"
   ]
  },
  {
   "cell_type": "code",
   "execution_count": 272,
   "metadata": {},
   "outputs": [],
   "source": [
    "mu_xs = [mu_x(e_i) for e_i in e_range]\n",
    "mu_ys = [mu_y(mu_xi) for mu_xi in mu_xs]"
   ]
  },
  {
   "cell_type": "code",
   "execution_count": 273,
   "metadata": {},
   "outputs": [],
   "source": [
    "noise_sigma = 10"
   ]
  },
  {
   "cell_type": "markdown",
   "metadata": {},
   "source": [
    "Our data is generated as a contaminated version of the truth"
   ]
  },
  {
   "cell_type": "code",
   "execution_count": 274,
   "metadata": {},
   "outputs": [],
   "source": [
    "x = np.stack([np.random.normal(mu_xi, noise_sigma, num_config)\n",
    "              for mu_xi in mu_xs])\n",
    "y = np.stack([np.random.normal(mu_yi, noise_sigma, num_config)\n",
    "              for mu_yi in mu_ys])"
   ]
  },
  {
   "cell_type": "code",
   "execution_count": 275,
   "metadata": {},
   "outputs": [
    {
     "data": {
      "text/plain": [
       "[<matplotlib.lines.Line2D at 0x7ff47c3f8090>]"
      ]
     },
     "execution_count": 275,
     "metadata": {},
     "output_type": "execute_result"
    },
    {
     "data": {
      "image/png": "[encoded data removed]",
      "text/plain": [
       "<Figure size 432x288 with 1 Axes>"
      ]
     },
     "metadata": {
      "needs_background": "light"
     },
     "output_type": "display_data"
    }
   ],
   "source": [
    "plt.scatter(x.reshape(-1), y.reshape(-1))\n",
    "plt.plot(mu_xs, mu_ys, color='red')"
   ]
  },
  {
   "cell_type": "markdown",
   "metadata": {},
   "source": [
    "Define how data is related to the truth, the usual assumption is that data is an unbiased measurement of the truth"
   ]
  },
  {
   "cell_type": "markdown",
   "metadata": {},
   "source": [
    "#### It's common to use linear regression to estimate the line"
   ]
  },
  {
   "cell_type": "code",
   "execution_count": 276,
   "metadata": {},
   "outputs": [],
   "source": [
    "num_sim = 1000\n",
    "coeffs = []\n",
    "for i in range(num_sim):\n",
    "    sim_x = np.concatenate(\n",
    "        [np.random.normal(mu_xi, noise_sigma, num_config)\n",
    "         for mu_xi in mu_xs])\n",
    "    sim_y = np.concatenate(\n",
    "        [np.random.normal(mu_yi, noise_sigma, num_config)\n",
    "         for mu_yi in mu_ys])\n",
    "    ols = sm.OLS(sim_y, sm.add_constant(sim_x)).fit()\n",
    "    coeffs.append(ols.params)"
   ]
  },
  {
   "cell_type": "code",
   "execution_count": 277,
   "metadata": {},
   "outputs": [
    {
     "data": {
      "text/plain": [
       "[<matplotlib.lines.Line2D at 0x7ff47d3bc610>]"
      ]
     },
     "execution_count": 277,
     "metadata": {},
     "output_type": "execute_result"
    },
    {
     "data": {
      "image/png": "[encoded data removed]",
      "text/plain": [
       "<Figure size 432x288 with 1 Axes>"
      ]
     },
     "metadata": {
      "needs_background": "light"
     },
     "output_type": "display_data"
    }
   ],
   "source": [
    "poss_x = np.linspace(np.min(x), np.max(x), 100)\n",
    "for i in range(num_sim):\n",
    "    plt.plot(poss_x,\n",
    "             coeffs[i][0] + coeffs[i][1] * poss_x,\n",
    "             color='black')\n",
    "    \n",
    "plt.plot(mu_xs, mu_ys, color='red')"
   ]
  },
  {
   "cell_type": "code",
   "execution_count": 278,
   "metadata": {},
   "outputs": [],
   "source": [
    "coeffs_mat = np.stack(coeffs)"
   ]
  },
  {
   "cell_type": "code",
   "execution_count": 279,
   "metadata": {},
   "outputs": [
    {
     "data": {
      "text/plain": [
       "array([10.76178876,  1.80468821])"
      ]
     },
     "execution_count": 279,
     "metadata": {},
     "output_type": "execute_result"
    }
   ],
   "source": [
    "np.apply_along_axis(np.mean, 0, coeffs_mat)"
   ]
  },
  {
   "cell_type": "markdown",
   "metadata": {},
   "source": [
    "Recall that the true values, we want to estimate are:"
   ]
  },
  {
   "cell_type": "code",
   "execution_count": 280,
   "metadata": {},
   "outputs": [
    {
     "data": {
      "text/plain": [
       "array([1, 2])"
      ]
     },
     "execution_count": 280,
     "metadata": {},
     "output_type": "execute_result"
    }
   ],
   "source": [
    "np.array([alpha0, alpha1])"
   ]
  },
  {
   "cell_type": "markdown",
   "metadata": {},
   "source": [
    "#### Is it bias or variance?"
   ]
  },
  {
   "cell_type": "code",
   "execution_count": 281,
   "metadata": {},
   "outputs": [
    {
     "data": {
      "text/plain": [
       "array([0.83376134, 0.01372288])"
      ]
     },
     "execution_count": 281,
     "metadata": {},
     "output_type": "execute_result"
    }
   ],
   "source": [
    "np.apply_along_axis(np.std, 0, coeffs_mat)"
   ]
  },
  {
   "cell_type": "markdown",
   "metadata": {},
   "source": [
    "answer: Definitely bias given the small-ish standard deviatiosn."
   ]
  },
  {
   "cell_type": "markdown",
   "metadata": {},
   "source": [
    "#### What to do? Orthogonal Regression"
   ]
  },
  {
   "cell_type": "code",
   "execution_count": 282,
   "metadata": {},
   "outputs": [],
   "source": [
    "def linear_fun(alpha_hat, x):\n",
    "    return alpha_hat[0] + alpha_hat[1] * x\n",
    "\n",
    "lin_mod = odr.Model(linear_fun)"
   ]
  },
  {
   "cell_type": "code",
   "execution_count": 283,
   "metadata": {},
   "outputs": [],
   "source": [
    "coeffs = []\n",
    "for i in range(num_sim):\n",
    "    sim_x = np.stack(\n",
    "        [np.random.normal(mu_xi, noise_sigma, num_config)\n",
    "         for mu_xi in mu_xs])\n",
    "    sim_y = np.stack(\n",
    "        [np.random.normal(mu_yi, noise_sigma, num_config)\n",
    "         for mu_yi in mu_ys])\n",
    "    sx = np.mean(np.apply_along_axis(np.std, 1, sim_x))\n",
    "    sy = np.mean(np.apply_along_axis(np.std, 1, sim_y))\n",
    "    sim_x_flat = sim_x.reshape(-1)\n",
    "    sim_y_flat = sim_y.reshape(-1)\n",
    "    mydata = odr.RealData(sim_x_flat, sim_y_flat, sx=sx, sy=sy)\n",
    "    # starting values\n",
    "    ols = sm.OLS(sim_y_flat,\n",
    "                 sm.add_constant(sim_x_flat)).fit()\n",
    "    myodr = odr.ODR(mydata, lin_mod, beta0=ols.params).run()\n",
    "    coeffs.append(myodr.beta)"
   ]
  },
  {
   "cell_type": "code",
   "execution_count": 284,
   "metadata": {},
   "outputs": [
    {
     "data": {
      "text/plain": [
       "[<matplotlib.lines.Line2D at 0x7ff47f13ed50>]"
      ]
     },
     "execution_count": 284,
     "metadata": {},
     "output_type": "execute_result"
    },
    {
     "data": {
      "image/png": "[encoded data removed]",
      "text/plain": [
       "<Figure size 432x288 with 1 Axes>"
      ]
     },
     "metadata": {
      "needs_background": "light"
     },
     "output_type": "display_data"
    }
   ],
   "source": [
    "for i in range(num_sim):\n",
    "    plt.plot(poss_x,\n",
    "             coeffs[i][0] + coeffs[i][1] * poss_x,\n",
    "             color='black')\n",
    "    \n",
    "plt.plot(mu_xs, mu_ys, color='red')"
   ]
  },
  {
   "cell_type": "code",
   "execution_count": null,
   "metadata": {},
   "outputs": [],
   "source": []
  },
  {
   "cell_type": "code",
   "execution_count": null,
   "metadata": {},
   "outputs": [],
   "source": []
  },
  {
   "cell_type": "code",
   "execution_count": null,
   "metadata": {},
   "outputs": [],
   "source": []
  },
  {
   "cell_type": "markdown",
   "metadata": {},
   "source": [
    "#### Something closer to the actual data"
   ]
  },
  {
   "cell_type": "markdown",
   "metadata": {},
   "source": [
    "First, simulate data that looks remotely similar to the output data.\n",
    "There are 2 relationships that I noticed:\n",
    "- The linear line you're trying to fit between $X$ and $Y$\n",
    "- The strongly relationship between hollow dots.\n",
    "\n",
    "I was told that:\n",
    "- The monte carlo samples are recycles across experiments\n",
    "\n",
    "To emulate that pattern, I've setup the simulation as follows:\n",
    "- $\\epsilon \\stackrel{i.i.d.}{\\sim} N(0, \\sigma^2)$\n",
    "- $X_{(e, i)} = f_x(e) + g_e(\\epsilon_i)$\n",
    "- $Y_{(e, i)} = \\beta_0 + \\beta_1 * f_x(e) + h_e(\\epsilon_i)$\n",
    "\n",
    "We wish to recover $\\beta_0$ and $\\beta_1$"
   ]
  },
  {
   "cell_type": "markdown",
   "metadata": {},
   "source": [
    "We have to assume that\n",
    "- $E(g_e(\\epsilon_i)) = 0$\n",
    "- $E(h_e(\\epsilon_i)) = 0$"
   ]
  },
  {
   "cell_type": "code",
   "execution_count": 456,
   "metadata": {},
   "outputs": [],
   "source": [
    "num_e = 8\n",
    "experiments = np.linspace(-0.005, 0.04, num_e)"
   ]
  },
  {
   "cell_type": "code",
   "execution_count": 457,
   "metadata": {},
   "outputs": [],
   "source": [
    "betas = [1, 2]"
   ]
  },
  {
   "cell_type": "code",
   "execution_count": 458,
   "metadata": {},
   "outputs": [],
   "source": [
    "# One set of configurations\n",
    "num_config = 100\n",
    "sigma = 0.0005\n",
    "eps = np.random.normal(0, sigma, num_config)"
   ]
  },
  {
   "cell_type": "code",
   "execution_count": 459,
   "metadata": {},
   "outputs": [],
   "source": [
    "sigma = 0.0005\n",
    "\n",
    "def f_x(e):\n",
    "    return e\n",
    "\n",
    "def g(e, eps):\n",
    "    return (1 + e) * eps\n",
    "\n",
    "def h(e, eps):\n",
    "    return 1e6 * (0.01 + e) * (eps)**2 * np.sign(eps)\n",
    "\n",
    "x = np.stack([f_x(e_i) + g(e_i, eps) for e_i in experiments])\n",
    "y = np.stack([betas[0] + f_x(e_i) * betas[1] + h(e_i, eps)\n",
    "              for e_i in experiments])"
   ]
  },
  {
   "cell_type": "code",
   "execution_count": 498,
   "metadata": {},
   "outputs": [],
   "source": [
    "x_avg = np.apply_along_axis(np.mean, 1, x)\n",
    "y_avg = np.apply_along_axis(np.mean, 1, y)"
   ]
  },
  {
   "cell_type": "code",
   "execution_count": 500,
   "metadata": {},
   "outputs": [
    {
     "data": {
      "text/plain": [
       "[<matplotlib.lines.Line2D at 0x7ff4687a3c50>]"
      ]
     },
     "execution_count": 500,
     "metadata": {},
     "output_type": "execute_result"
    },
    {
     "data": {
      "image/png": "[encoded data removed]",
      "text/plain": [
       "<Figure size 432x288 with 1 Axes>"
      ]
     },
     "metadata": {
      "needs_background": "light"
     },
     "output_type": "display_data"
    }
   ],
   "source": [
    "for i in range(len(experiments)):\n",
    "    plt.scatter(x[i, :], y[i, :])\n",
    "\n",
    "plt.plot(f_x(experiments), alphas[0] + alphas[1] * experiments, color=\"black\")\n",
    "plt.plot(x_avg, y_avg, color=\"red\")"
   ]
  },
  {
   "cell_type": "markdown",
   "metadata": {},
   "source": [
    "#### Naive Weighted Least Squares Approach"
   ]
  },
  {
   "cell_type": "code",
   "execution_count": 462,
   "metadata": {},
   "outputs": [],
   "source": [
    "num_sim = 1000\n",
    "coeffs = []\n",
    "for i in range(num_sim):\n",
    "    sim_eps = np.random.normal(0, 0.0005, num_config)\n",
    "    sim_x = np.stack([f_x(e_i) + g(e_i, sim_eps) for e_i in experiments])\n",
    "    sim_y = np.stack([betas[0] + f_x(e_i) * betas[1] + h(e_i, sim_eps)\n",
    "              for e_i in experiments])\n",
    "    sim_sy = np.apply_along_axis(np.std, 1, sim_y)\n",
    "    sim_x_avg = np.apply_along_axis(np.mean, 1, sim_x)\n",
    "    sim_y_avg = np.apply_along_axis(np.mean, 1, sim_y)\n",
    "    sim_wls = sm.WLS(sim_y_avg, sm.add_constant(sim_x_avg),\n",
    "                     weights=1/sim_sy).fit()\n",
    "    coeffs.append(wls.params)"
   ]
  },
  {
   "cell_type": "code",
   "execution_count": 501,
   "metadata": {},
   "outputs": [
    {
     "data": {
      "text/plain": [
       "<matplotlib.collections.PathCollection at 0x7ff4694d12d0>"
      ]
     },
     "execution_count": 501,
     "metadata": {},
     "output_type": "execute_result"
    },
    {
     "data": {
      "image/png": "[encoded data removed]",
      "text/plain": [
       "<Figure size 432x288 with 1 Axes>"
      ]
     },
     "metadata": {
      "needs_background": "light"
     },
     "output_type": "display_data"
    }
   ],
   "source": [
    "for i in range(num_sim):\n",
    "    plt.plot(f_x(experiments),\n",
    "             coeffs[i][0] + coeffs[i][1] * f_x(experiments),\n",
    "             color=\"black\")\n",
    "\n",
    "plt.plot(f_x(experiments),\n",
    "         alphas[0] + alphas[1] * f_x(experiments),\n",
    "         color=\"red\")\n",
    "# The last run's average\n",
    "plt.scatter(sim_x_avg,\n",
    "            sim_y_avg,\n",
    "            color=\"blue\")"
   ]
  },
  {
   "cell_type": "markdown",
   "metadata": {},
   "source": [
    "- The correlation between X and Y for each experiment is so strong that Y is basically known given X, this means that X and Y do not really have different sources of uncertainty. "
   ]
  },
  {
   "cell_type": "markdown",
   "metadata": {},
   "source": [
    "I believe we should try to estimate the relationship for each experiment "
   ]
  },
  {
   "cell_type": "code",
   "execution_count": 496,
   "metadata": {},
   "outputs": [],
   "source": [
    "ols_es = []\n",
    "for i in range(num_e):\n",
    "    covariates = np.stack([np.power(x[i, :], j) for j in range(4)], axis=-1)\n",
    "    ols = sm.OLS(y[i, :].reshape(-1, 1), covariates).fit()\n",
    "    ols_es.append(ols.params)"
   ]
  },
  {
   "cell_type": "code",
   "execution_count": 495,
   "metadata": {},
   "outputs": [
    {
     "data": {
      "text/plain": [
       "[<matplotlib.lines.Line2D at 0x7ff4674a7410>]"
      ]
     },
     "execution_count": 495,
     "metadata": {},
     "output_type": "execute_result"
    },
    {
     "data": {
      "image/png": "[encoded data removed]",
      "text/plain": [
       "<Figure size 432x288 with 1 Axes>"
      ]
     },
     "metadata": {
      "needs_background": "light"
     },
     "output_type": "display_data"
    }
   ],
   "source": [
    "i = 5\n",
    "covariates = np.stack([np.power(x[i, :], j) for j in range(4)], axis=-1)\n",
    "plt.scatter(x[i, :], y[i, :] - np.matmul(covariates, ols_es[i]), color=\"red\")\n",
    "plt.plot(x[i, :], np.zeros(x.shape[1]))"
   ]
  },
  {
   "cell_type": "markdown",
   "metadata": {},
   "source": [
    "The fit isn't perfect but it's pretty good. So\n",
    "\n",
    "$\\bar{X}_e = \\frac{1}{n}\\sum_i X_{(e, i)}$\n",
    "\n",
    "$$\\begin{bmatrix} \\bar{X}_{e_1} \\\\ \\vdots \\\\ \\bar{X}_{e_k}\\end{bmatrix} \\to MVN\\left(\\begin{bmatrix} f_x(e_1) \\\\ \\vdots \\\\ f_x(e_k)  \\end{bmatrix}, \\Sigma_f \\right)$$"
   ]
  },
  {
   "cell_type": "markdown",
   "metadata": {},
   "source": []
  }
 ],
 "metadata": {
  "kernelspec": {
   "display_name": "Python 3",
   "language": "python",
   "name": "python3"
  },
  "language_info": {
   "codemirror_mode": {
    "name": "ipython",
    "version": 3
   },
   "file_extension": ".py",
   "mimetype": "text/x-python",
   "name": "python",
   "nbconvert_exporter": "python",
   "pygments_lexer": "ipython3",
   "version": "3.7.6"
  }
 },
 "nbformat": 4,
 "nbformat_minor": 4
}
