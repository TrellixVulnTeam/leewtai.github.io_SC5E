{
 "cells": [
  {
   "cell_type": "markdown",
   "metadata": {},
   "source": [
    "## Contrasting Bayesian Solutions with Classical Statistics"
   ]
  },
  {
   "cell_type": "markdown",
   "metadata": {},
   "source": [
    "One of the classic statistical questions is to estimate a certain quantity. Let's stick to the coin toss example as before. Let's pretend we can only have 10 tosses with an unknown value of $\\mu = E(Y)$"
   ]
  },
  {
   "cell_type": "code",
   "execution_count": null,
   "metadata": {},
   "outputs": [],
   "source": [
    "mu <- runif(1, -10, 10)"
   ]
  },
  {
   "cell_type": "code",
   "execution_count": null,
   "metadata": {},
   "outputs": [],
   "source": [
    "n <- 10"
   ]
  },
  {
   "cell_type": "code",
   "execution_count": null,
   "metadata": {},
   "outputs": [],
   "source": [
    "true_var <- 1\n",
    "Ys <- rnorm(n, mean=mu, sd=sqrt(true_var))"
   ]
  },
  {
   "cell_type": "code",
   "execution_count": null,
   "metadata": {},
   "outputs": [],
   "source": [
    "mu"
   ]
  },
  {
   "cell_type": "markdown",
   "metadata": {},
   "source": [
    "### Please build a 95% Confidence Interval for $\\hat{\\mu}$ "
   ]
  },
  {
   "cell_type": "code",
   "execution_count": null,
   "metadata": {},
   "outputs": [],
   "source": []
  },
  {
   "cell_type": "code",
   "execution_count": null,
   "metadata": {},
   "outputs": [],
   "source": []
  },
  {
   "cell_type": "code",
   "execution_count": null,
   "metadata": {},
   "outputs": [],
   "source": []
  },
  {
   "cell_type": "code",
   "execution_count": null,
   "metadata": {},
   "outputs": [],
   "source": []
  },
  {
   "cell_type": "code",
   "execution_count": null,
   "metadata": {},
   "outputs": [],
   "source": []
  },
  {
   "cell_type": "code",
   "execution_count": null,
   "metadata": {},
   "outputs": [],
   "source": []
  },
  {
   "cell_type": "markdown",
   "metadata": {},
   "source": [
    "### What is the posterior distribution?"
   ]
  },
  {
   "cell_type": "markdown",
   "metadata": {},
   "source": [
    "From our previous class, you know how to update the \"p\" value"
   ]
  },
  {
   "cell_type": "code",
   "execution_count": null,
   "metadata": {},
   "outputs": [],
   "source": [
    "est_mu <- mean(Ys)"
   ]
  },
  {
   "cell_type": "code",
   "execution_count": null,
   "metadata": {},
   "outputs": [],
   "source": [
    "# This math derivation you would get from For reference: https://en.wikipedia.org/wiki/Conjugate_prior\n",
    "\n",
    "# What you think the mean and variance are before seeing data!\n",
    "mu_prior <- 0\n",
    "exp_var_prior <- 100^2\n",
    "\n",
    "# Here are some convenient choices I made for you, please don't change these\n",
    "nu_prior <- 1\n",
    "alpha_prior <- 2.0001\n",
    "beta_prior <- exp_var_prior * (alpha_prior - 1)\n",
    "\n",
    "mu_post <- (mu_prior * nu_prior + n * est_mu) / (nu_prior + n)\n",
    "alpha_post <- alpha_prior + n / 2\n",
    "beta_post <- beta_prior + 0.5 * sum((Ys - est_mu)^2) + n * nu_prior * (est_mu - mu_prior)^2 / (nu_prior + n)\n",
    "\n",
    "x <- seq(-3 * sqrt(exp_var_prior), 3 * sqrt(exp_var_prior), length.out = 100)"
   ]
  },
  {
   "cell_type": "code",
   "execution_count": null,
   "metadata": {},
   "outputs": [],
   "source": [
    "par(mfrow=c(1, 2))\n",
    "plot(x, dnorm(x, mu_prior, sqrt(beta_prior / (alpha_prior - 1))), type=\"l\", main=\"Prior Distribution\")\n",
    "plot(x, dnorm(x, mu_post, sqrt(beta_post / (alpha_post - 1))), type=\"l\", main=\"Posterior Distribution\")\n",
    "abline(v=mu, col=\"blue\")"
   ]
  },
  {
   "cell_type": "markdown",
   "metadata": {},
   "source": [
    "#### Please comment on the prior/posterior"
   ]
  },
  {
   "cell_type": "code",
   "execution_count": null,
   "metadata": {},
   "outputs": [],
   "source": []
  },
  {
   "cell_type": "code",
   "execution_count": null,
   "metadata": {},
   "outputs": [],
   "source": []
  },
  {
   "cell_type": "markdown",
   "metadata": {},
   "source": [
    "If you wanted to get a \"95%\" best guesses of $p$, how would you use the posterior distribution?"
   ]
  },
  {
   "cell_type": "markdown",
   "metadata": {},
   "source": [
    "#### Please calculate 2.5 percentile to 97.5 percentile of the posterior distribution"
   ]
  },
  {
   "cell_type": "code",
   "execution_count": null,
   "metadata": {},
   "outputs": [],
   "source": []
  },
  {
   "cell_type": "code",
   "execution_count": null,
   "metadata": {},
   "outputs": [],
   "source": []
  },
  {
   "cell_type": "code",
   "execution_count": null,
   "metadata": {},
   "outputs": [],
   "source": [
    "# You do not need to understand this functions, just that cred_int will return an interval if provided with data\n",
    "\n",
    "cred_int_fun <- function(data){\n",
    "    n <- length(data)\n",
    "    est_mu <- mean(data)\n",
    "    mu_post <- (mu_prior * nu_prior + n * est_mu) / (nu_prior + n)\n",
    "    alpha_post <- alpha_prior + n / 2\n",
    "    beta_post <- beta_prior + 0.5 * sum((data - est_mu)^2) + n * nu_prior * (est_mu - mu_prior)^2 / (nu_prior + n) \n",
    "    \n",
    "    ### ???????? Please paste your solution for the 2.5-97.5 percentile below\n",
    "    cred_int <- ???????\n",
    "    return(cred_int)\n",
    "}"
   ]
  },
  {
   "cell_type": "code",
   "execution_count": null,
   "metadata": {},
   "outputs": [],
   "source": [
    "cred <- cred_int_fun(Ys)"
   ]
  },
  {
   "cell_type": "markdown",
   "metadata": {},
   "source": [
    "#### Compare the 2 different intervals, which one do you like more?\n",
    "\n",
    "- What do you think will happen when you increase `n`?"
   ]
  },
  {
   "cell_type": "markdown",
   "metadata": {},
   "source": [
    "## We often talk about the \"repeated\" experiments for our confidence intervals, what happens with credible intervals?"
   ]
  },
  {
   "cell_type": "markdown",
   "metadata": {},
   "source": [
    "#### Please write the function that calculates the confidence interval given data"
   ]
  },
  {
   "cell_type": "code",
   "execution_count": null,
   "metadata": {},
   "outputs": [],
   "source": []
  },
  {
   "cell_type": "markdown",
   "metadata": {},
   "source": [
    "#### Please simulate data from the data generation process above, then use your functions to calculate the 1) 95% confidence interval and 2) 95% credible interval."
   ]
  },
  {
   "cell_type": "code",
   "execution_count": null,
   "metadata": {},
   "outputs": [],
   "source": [
    "sim_num <- 3000\n",
    "conf_ints <- matrix(NA, ncol=2, nrow=sim_num)\n",
    "cred_ints <- conf_ints\n",
    "for(i in seq_len(sim_num)){\n",
    "    ????\n",
    "    ????\n",
    "    ????\n",
    "}"
   ]
  },
  {
   "cell_type": "markdown",
   "metadata": {},
   "source": [
    "#### Please calculate the percentage of times the confidence interval captures $\\mu$"
   ]
  },
  {
   "cell_type": "code",
   "execution_count": null,
   "metadata": {},
   "outputs": [],
   "source": []
  },
  {
   "cell_type": "markdown",
   "metadata": {},
   "source": [
    "#### Please calculate the percentage of times the credible interval captures $\\mu$"
   ]
  },
  {
   "cell_type": "code",
   "execution_count": null,
   "metadata": {},
   "outputs": [],
   "source": [
    "\n"
   ]
  },
  {
   "cell_type": "markdown",
   "metadata": {},
   "source": [
    "### Compare the confidence interval to the credible interval, what's the difference?"
   ]
  },
  {
   "cell_type": "code",
   "execution_count": null,
   "metadata": {},
   "outputs": [],
   "source": []
  },
  {
   "cell_type": "code",
   "execution_count": null,
   "metadata": {},
   "outputs": [],
   "source": []
  },
  {
   "cell_type": "code",
   "execution_count": null,
   "metadata": {},
   "outputs": [],
   "source": []
  }
 ],
 "metadata": {
  "kernelspec": {
   "display_name": "R",
   "language": "R",
   "name": "ir"
  },
  "language_info": {
   "codemirror_mode": "r",
   "file_extension": ".r",
   "mimetype": "text/x-r-source",
   "name": "R",
   "pygments_lexer": "r",
   "version": "3.4.3"
  }
 },
 "nbformat": 4,
 "nbformat_minor": 4
}
