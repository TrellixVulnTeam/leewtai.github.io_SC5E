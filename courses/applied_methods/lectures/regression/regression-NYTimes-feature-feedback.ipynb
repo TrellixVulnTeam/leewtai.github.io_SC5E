{
 "cells": [
  {
   "cell_type": "markdown",
   "metadata": {},
   "source": [
    "# NYTimes Bias in Recommendations?"
   ]
  },
  {
   "cell_type": "markdown",
   "metadata": {},
   "source": [
    "The key question is whether people are biased when it comes to recommending comments depending on if the name \"sounds\" male or female.\n",
    "\n",
    "IMPORTANT: to make this less time consuming, the code below filters for only the articles and comments in the period 3/1-3/15."
   ]
  },
  {
   "cell_type": "code",
   "execution_count": 1,
   "metadata": {},
   "outputs": [],
   "source": [
    "df <- read.csv(\"gendered_nytimes_comments.csv\", stringsAsFactors=FALSE)"
   ]
  },
  {
   "cell_type": "code",
   "execution_count": null,
   "metadata": {},
   "outputs": [],
   "source": [
    "target <- as.numeric(substr(df$pub_date, 9, 10)) <= 15\n",
    "df <- df[target, ]"
   ]
  },
  {
   "cell_type": "code",
   "execution_count": 8,
   "metadata": {},
   "outputs": [
    {
     "data": {
      "text/html": [
       "<ol class=list-inline>\n",
       "\t<li>4007417</li>\n",
       "\t<li>18</li>\n",
       "</ol>\n"
      ],
      "text/latex": [
       "\\begin{enumerate*}\n",
       "\\item 4007417\n",
       "\\item 18\n",
       "\\end{enumerate*}\n"
      ],
      "text/markdown": [
       "1. 4007417\n",
       "2. 18\n",
       "\n",
       "\n"
      ],
      "text/plain": [
       "[1] 4007417      18"
      ]
     },
     "metadata": {},
     "output_type": "display_data"
    }
   ],
   "source": [
    "dim(df)"
   ]
  },
  {
   "cell_type": "code",
   "execution_count": 9,
   "metadata": {},
   "outputs": [
    {
     "data": {
      "text/html": [
       "<table>\n",
       "<thead><tr><th scope=col>X.1</th><th scope=col>display_name</th><th scope=col>X</th><th scope=col>uri</th><th scope=col>num_rec</th><th scope=col>update_date</th><th scope=col>approve_date</th><th scope=col>editorsSelection</th><th scope=col>word_count</th><th scope=col>uniq_word_count</th><th scope=col>tot_comms</th><th scope=col>rank</th><th scope=col>time_gap</th><th scope=col>lastname</th><th scope=col>firstname</th><th scope=col>pub_date</th><th scope=col>news_desk</th><th scope=col>label</th></tr></thead>\n",
       "<tbody>\n",
       "\t<tr><td>1                                                 </td><td>__                                                </td><td>2704386                                           </td><td>nyt://article/93d985f5-e72e-5ff8-b1e5-d7668f31b4fb</td><td>4                                                 </td><td>1583961033                                        </td><td>1583883896                                        </td><td>False                                             </td><td>55                                                </td><td>48                                                </td><td>75                                                </td><td>47                                                </td><td>27365                                             </td><td>Austen                                            </td><td>Ian                                               </td><td>2020-03-10T15:44:21+0000                          </td><td>Foreign                                           </td><td>unknown                                           </td></tr>\n",
       "\t<tr><td>2                                                 </td><td>__                                                </td><td>2704387                                           </td><td>nyt://article/93d985f5-e72e-5ff8-b1e5-d7668f31b4fb</td><td>4                                                 </td><td>1583961033                                        </td><td>1583883896                                        </td><td>False                                             </td><td>55                                                </td><td>48                                                </td><td>75                                                </td><td>53                                                </td><td>27365                                             </td><td>Austen                                            </td><td>Ian                                               </td><td>2020-03-10T15:44:21+0000                          </td><td>Foreign                                           </td><td>unknown                                           </td></tr>\n",
       "\t<tr><td>3                                                 </td><td>__                                                </td><td>2704388                                           </td><td>nyt://article/93d985f5-e72e-5ff8-b1e5-d7668f31b4fb</td><td>4                                                 </td><td>1583961033                                        </td><td>1583883896                                        </td><td>False                                             </td><td>55                                                </td><td>48                                                </td><td>75                                                </td><td> 3                                                </td><td>27365                                             </td><td>Austen                                            </td><td>Ian                                               </td><td>2020-03-10T15:44:21+0000                          </td><td>Foreign                                           </td><td>unknown                                           </td></tr>\n",
       "</tbody>\n",
       "</table>\n"
      ],
      "text/latex": [
       "\\begin{tabular}{r|llllllllllllllllll}\n",
       " X.1 & display\\_name & X & uri & num\\_rec & update\\_date & approve\\_date & editorsSelection & word\\_count & uniq\\_word\\_count & tot\\_comms & rank & time\\_gap & lastname & firstname & pub\\_date & news\\_desk & label\\\\\n",
       "\\hline\n",
       "\t 1                                                  & \\_\\_                                             & 2704386                                            & nyt://article/93d985f5-e72e-5ff8-b1e5-d7668f31b4fb & 4                                                  & 1583961033                                         & 1583883896                                         & False                                              & 55                                                 & 48                                                 & 75                                                 & 47                                                 & 27365                                              & Austen                                             & Ian                                                & 2020-03-10T15:44:21+0000                           & Foreign                                            & unknown                                           \\\\\n",
       "\t 2                                                  & \\_\\_                                             & 2704387                                            & nyt://article/93d985f5-e72e-5ff8-b1e5-d7668f31b4fb & 4                                                  & 1583961033                                         & 1583883896                                         & False                                              & 55                                                 & 48                                                 & 75                                                 & 53                                                 & 27365                                              & Austen                                             & Ian                                                & 2020-03-10T15:44:21+0000                           & Foreign                                            & unknown                                           \\\\\n",
       "\t 3                                                  & \\_\\_                                             & 2704388                                            & nyt://article/93d985f5-e72e-5ff8-b1e5-d7668f31b4fb & 4                                                  & 1583961033                                         & 1583883896                                         & False                                              & 55                                                 & 48                                                 & 75                                                 &  3                                                 & 27365                                              & Austen                                             & Ian                                                & 2020-03-10T15:44:21+0000                           & Foreign                                            & unknown                                           \\\\\n",
       "\\end{tabular}\n"
      ],
      "text/markdown": [
       "\n",
       "X.1 | display_name | X | uri | num_rec | update_date | approve_date | editorsSelection | word_count | uniq_word_count | tot_comms | rank | time_gap | lastname | firstname | pub_date | news_desk | label | \n",
       "|---|---|---|\n",
       "| 1                                                  | __                                                 | 2704386                                            | nyt://article/93d985f5-e72e-5ff8-b1e5-d7668f31b4fb | 4                                                  | 1583961033                                         | 1583883896                                         | False                                              | 55                                                 | 48                                                 | 75                                                 | 47                                                 | 27365                                              | Austen                                             | Ian                                                | 2020-03-10T15:44:21+0000                           | Foreign                                            | unknown                                            | \n",
       "| 2                                                  | __                                                 | 2704387                                            | nyt://article/93d985f5-e72e-5ff8-b1e5-d7668f31b4fb | 4                                                  | 1583961033                                         | 1583883896                                         | False                                              | 55                                                 | 48                                                 | 75                                                 | 53                                                 | 27365                                              | Austen                                             | Ian                                                | 2020-03-10T15:44:21+0000                           | Foreign                                            | unknown                                            | \n",
       "| 3                                                  | __                                                 | 2704388                                            | nyt://article/93d985f5-e72e-5ff8-b1e5-d7668f31b4fb | 4                                                  | 1583961033                                         | 1583883896                                         | False                                              | 55                                                 | 48                                                 | 75                                                 |  3                                                 | 27365                                              | Austen                                             | Ian                                                | 2020-03-10T15:44:21+0000                           | Foreign                                            | unknown                                            | \n",
       "\n",
       "\n"
      ],
      "text/plain": [
       "  X.1 display_name X       uri                                               \n",
       "1 1   __           2704386 nyt://article/93d985f5-e72e-5ff8-b1e5-d7668f31b4fb\n",
       "2 2   __           2704387 nyt://article/93d985f5-e72e-5ff8-b1e5-d7668f31b4fb\n",
       "3 3   __           2704388 nyt://article/93d985f5-e72e-5ff8-b1e5-d7668f31b4fb\n",
       "  num_rec update_date approve_date editorsSelection word_count uniq_word_count\n",
       "1 4       1583961033  1583883896   False            55         48             \n",
       "2 4       1583961033  1583883896   False            55         48             \n",
       "3 4       1583961033  1583883896   False            55         48             \n",
       "  tot_comms rank time_gap lastname firstname pub_date                 news_desk\n",
       "1 75        47   27365    Austen   Ian       2020-03-10T15:44:21+0000 Foreign  \n",
       "2 75        53   27365    Austen   Ian       2020-03-10T15:44:21+0000 Foreign  \n",
       "3 75         3   27365    Austen   Ian       2020-03-10T15:44:21+0000 Foreign  \n",
       "  label  \n",
       "1 unknown\n",
       "2 unknown\n",
       "3 unknown"
      ]
     },
     "metadata": {},
     "output_type": "display_data"
    }
   ],
   "source": [
    "head(df, 3)"
   ]
  },
  {
   "cell_type": "markdown",
   "metadata": {},
   "source": [
    "#### Just try it!\n",
    "- Try regressing the number of recommendations by the gender label, the total number of comments (a proxy for readership), the time order of the comment, and whether it was endorced by NYTimes.\n",
    "- make sure to convert the gender label NA values to a third gender label\n",
    "- Does gender matter? What matters the most?\n",
    "- remember to diagnose your model, give the data size, you may want to **down sample** the data before plotting"
   ]
  },
  {
   "cell_type": "code",
   "execution_count": null,
   "metadata": {},
   "outputs": [],
   "source": []
  },
  {
   "cell_type": "code",
   "execution_count": null,
   "metadata": {},
   "outputs": [],
   "source": []
  },
  {
   "cell_type": "code",
   "execution_count": null,
   "metadata": {},
   "outputs": [],
   "source": []
  },
  {
   "cell_type": "code",
   "execution_count": null,
   "metadata": {},
   "outputs": [],
   "source": []
  },
  {
   "cell_type": "code",
   "execution_count": null,
   "metadata": {},
   "outputs": [],
   "source": []
  },
  {
   "cell_type": "code",
   "execution_count": null,
   "metadata": {},
   "outputs": [],
   "source": []
  },
  {
   "cell_type": "markdown",
   "metadata": {},
   "source": [
    "Which of the assumptions is violated?\n",
    "- linearity $Y = X\\beta + \\epsilon$\n",
    "- $E(\\epsilon|X) = 0$\n",
    "- $epsilon_i$ are independent from one another\n",
    "- $Var(\\epsilon|X) = \\sigma^2 \\neq \\sigma^2(X)$"
   ]
  },
  {
   "cell_type": "markdown",
   "metadata": {},
   "source": [
    "#### Let's transform the data a bit\n",
    "- It is common to apply the log(X + 1) transformation on count data, plot the histograms to see the difference before/after the transformation. (don't forget to down sample when plotting!)"
   ]
  },
  {
   "cell_type": "code",
   "execution_count": null,
   "metadata": {},
   "outputs": [],
   "source": []
  },
  {
   "cell_type": "code",
   "execution_count": null,
   "metadata": {},
   "outputs": [],
   "source": []
  },
  {
   "cell_type": "markdown",
   "metadata": {},
   "source": [
    "#### Refit the OLS using the new variables"
   ]
  },
  {
   "cell_type": "markdown",
   "metadata": {},
   "source": [
    "Do not forget to diagnose the data once again!"
   ]
  },
  {
   "cell_type": "code",
   "execution_count": null,
   "metadata": {},
   "outputs": [],
   "source": []
  },
  {
   "cell_type": "code",
   "execution_count": null,
   "metadata": {},
   "outputs": [],
   "source": []
  },
  {
   "cell_type": "code",
   "execution_count": null,
   "metadata": {},
   "outputs": [],
   "source": []
  },
  {
   "cell_type": "code",
   "execution_count": null,
   "metadata": {},
   "outputs": [],
   "source": []
  },
  {
   "cell_type": "code",
   "execution_count": null,
   "metadata": {},
   "outputs": [],
   "source": []
  },
  {
   "cell_type": "markdown",
   "metadata": {},
   "source": [
    "### Sanity check your OLS results, interpret the inferred coefficients and articulate its findings"
   ]
  },
  {
   "cell_type": "markdown",
   "metadata": {},
   "source": [
    "Do any of them seem funny to you? If so, how would you triage the issue (hint, visualize it)"
   ]
  },
  {
   "cell_type": "code",
   "execution_count": null,
   "metadata": {},
   "outputs": [],
   "source": []
  },
  {
   "cell_type": "code",
   "execution_count": null,
   "metadata": {},
   "outputs": [],
   "source": []
  },
  {
   "cell_type": "code",
   "execution_count": null,
   "metadata": {},
   "outputs": [],
   "source": []
  },
  {
   "cell_type": "code",
   "execution_count": null,
   "metadata": {},
   "outputs": [],
   "source": []
  },
  {
   "cell_type": "code",
   "execution_count": null,
   "metadata": {},
   "outputs": [],
   "source": []
  },
  {
   "cell_type": "code",
   "execution_count": null,
   "metadata": {},
   "outputs": [],
   "source": []
  },
  {
   "cell_type": "code",
   "execution_count": null,
   "metadata": {},
   "outputs": [],
   "source": []
  },
  {
   "cell_type": "code",
   "execution_count": null,
   "metadata": {},
   "outputs": [],
   "source": []
  },
  {
   "cell_type": "markdown",
   "metadata": {},
   "source": [
    "If you are ahead of schedule, try the following changes and re-fit the OLS:\n",
    "- The variance for comments from different articles is quite large. Create a feature that contains the \"average Y for the article\" for each comment and add this to your features. Re-fit the OLS one more time!\n",
    "- Some features have a really wide range where most articles do not even have comments in those ranges (e.g. rank), how could you transform this feature? What happens when only one or two articles have features in the large ranges?\n",
    "- try adding word count and unique word count into your model, is it worth it?\n",
    "- Food for thought, how do you know when to stop?"
   ]
  },
  {
   "cell_type": "code",
   "execution_count": 35,
   "metadata": {},
   "outputs": [],
   "source": []
  },
  {
   "cell_type": "code",
   "execution_count": null,
   "metadata": {},
   "outputs": [],
   "source": []
  },
  {
   "cell_type": "code",
   "execution_count": null,
   "metadata": {},
   "outputs": [],
   "source": []
  },
  {
   "cell_type": "code",
   "execution_count": null,
   "metadata": {},
   "outputs": [],
   "source": []
  },
  {
   "cell_type": "code",
   "execution_count": null,
   "metadata": {},
   "outputs": [],
   "source": []
  },
  {
   "cell_type": "code",
   "execution_count": null,
   "metadata": {},
   "outputs": [],
   "source": []
  },
  {
   "cell_type": "code",
   "execution_count": null,
   "metadata": {},
   "outputs": [],
   "source": []
  },
  {
   "cell_type": "code",
   "execution_count": 57,
   "metadata": {},
   "outputs": [],
   "source": []
  },
  {
   "cell_type": "code",
   "execution_count": 70,
   "metadata": {},
   "outputs": [],
   "source": []
  },
  {
   "cell_type": "code",
   "execution_count": null,
   "metadata": {},
   "outputs": [],
   "source": []
  }
 ],
 "metadata": {
  "kernelspec": {
   "display_name": "R",
   "language": "R",
   "name": "ir"
  },
  "language_info": {
   "codemirror_mode": "r",
   "file_extension": ".r",
   "mimetype": "text/x-r-source",
   "name": "R",
   "pygments_lexer": "r",
   "version": "3.4.3"
  }
 },
 "nbformat": 4,
 "nbformat_minor": 4
}
