{
 "cells": [
  {
   "cell_type": "markdown",
   "metadata": {},
   "source": [
    "### Exploring Recommendations on NYTImes Comments"
   ]
  },
  {
   "cell_type": "markdown",
   "metadata": {},
   "source": [
    "One of the hypothesis is whether commenters with female names receive fewer \"recommendatinos\" relative to commenters with male sounding names"
   ]
  },
  {
   "cell_type": "markdown",
   "metadata": {},
   "source": [
    "### Use the social security website to identify the more common gender for different names over the years\n",
    "\n",
    "https://www.ssa.gov/oact/babynames/"
   ]
  },
  {
   "cell_type": "markdown",
   "metadata": {},
   "source": [
    "I've scraped the data from 1970-2002 and stored the counts and names in a file on Canvas `Files/Data/gender_names_ssa.csv`."
   ]
  },
  {
   "cell_type": "markdown",
   "metadata": {},
   "source": [
    "Our data has the 500 most popular names for each birthyear from 1970-2002. Try to answer some of these questions:\n",
    "- Which names can be both male and female according to this dataset?\n",
    "- Do men or women have more unique names (does one gender \"recycle\" more)?\n",
    "- Please create a data frame with one column of the name and one column with your predicted gender for that name."
   ]
  },
  {
   "cell_type": "code",
   "execution_count": 1,
   "metadata": {},
   "outputs": [],
   "source": [
    "gnames <- read.csv(\"../../../../usecases_data/name_gender_data_scrape/gender_names_ssa.csv\")"
   ]
  },
  {
   "cell_type": "code",
   "execution_count": 2,
   "metadata": {},
   "outputs": [
    {
     "data": {
      "text/html": [
       "<table>\n",
       "<thead><tr><th scope=col>X</th><th scope=col>rank</th><th scope=col>male_name</th><th scope=col>male_name_num</th><th scope=col>female_name</th><th scope=col>female_name_num</th><th scope=col>year</th></tr></thead>\n",
       "<tbody>\n",
       "\t<tr><td>0          </td><td>1          </td><td>Michael    </td><td>85302      </td><td>Jennifer   </td><td>46157      </td><td>1970       </td></tr>\n",
       "\t<tr><td>1          </td><td>2          </td><td>James      </td><td>61759      </td><td>Lisa       </td><td>38963      </td><td>1970       </td></tr>\n",
       "\t<tr><td>2          </td><td>3          </td><td>David      </td><td>61752      </td><td>Kimberly   </td><td>34136      </td><td>1970       </td></tr>\n",
       "\t<tr><td>3          </td><td>4          </td><td>John       </td><td>58525      </td><td>Michelle   </td><td>34050      </td><td>1970       </td></tr>\n",
       "\t<tr><td>4          </td><td>5          </td><td>Robert     </td><td>57203      </td><td>Amy        </td><td>25209      </td><td>1970       </td></tr>\n",
       "\t<tr><td>5          </td><td>6          </td><td>Christopher</td><td>41772      </td><td>Angela     </td><td>24927      </td><td>1970       </td></tr>\n",
       "</tbody>\n",
       "</table>\n"
      ],
      "text/latex": [
       "\\begin{tabular}{r|lllllll}\n",
       " X & rank & male\\_name & male\\_name\\_num & female\\_name & female\\_name\\_num & year\\\\\n",
       "\\hline\n",
       "\t 0           & 1           & Michael     & 85302       & Jennifer    & 46157       & 1970       \\\\\n",
       "\t 1           & 2           & James       & 61759       & Lisa        & 38963       & 1970       \\\\\n",
       "\t 2           & 3           & David       & 61752       & Kimberly    & 34136       & 1970       \\\\\n",
       "\t 3           & 4           & John        & 58525       & Michelle    & 34050       & 1970       \\\\\n",
       "\t 4           & 5           & Robert      & 57203       & Amy         & 25209       & 1970       \\\\\n",
       "\t 5           & 6           & Christopher & 41772       & Angela      & 24927       & 1970       \\\\\n",
       "\\end{tabular}\n"
      ],
      "text/markdown": [
       "\n",
       "X | rank | male_name | male_name_num | female_name | female_name_num | year | \n",
       "|---|---|---|---|---|---|\n",
       "| 0           | 1           | Michael     | 85302       | Jennifer    | 46157       | 1970        | \n",
       "| 1           | 2           | James       | 61759       | Lisa        | 38963       | 1970        | \n",
       "| 2           | 3           | David       | 61752       | Kimberly    | 34136       | 1970        | \n",
       "| 3           | 4           | John        | 58525       | Michelle    | 34050       | 1970        | \n",
       "| 4           | 5           | Robert      | 57203       | Amy         | 25209       | 1970        | \n",
       "| 5           | 6           | Christopher | 41772       | Angela      | 24927       | 1970        | \n",
       "\n",
       "\n"
      ],
      "text/plain": [
       "  X rank male_name   male_name_num female_name female_name_num year\n",
       "1 0 1    Michael     85302         Jennifer    46157           1970\n",
       "2 1 2    James       61759         Lisa        38963           1970\n",
       "3 2 3    David       61752         Kimberly    34136           1970\n",
       "4 3 4    John        58525         Michelle    34050           1970\n",
       "5 4 5    Robert      57203         Amy         25209           1970\n",
       "6 5 6    Christopher 41772         Angela      24927           1970"
      ]
     },
     "metadata": {},
     "output_type": "display_data"
    }
   ],
   "source": [
    "head(gnames)"
   ]
  },
  {
   "cell_type": "code",
   "execution_count": null,
   "metadata": {},
   "outputs": [],
   "source": []
  },
  {
   "cell_type": "code",
   "execution_count": null,
   "metadata": {},
   "outputs": [],
   "source": []
  },
  {
   "cell_type": "code",
   "execution_count": null,
   "metadata": {},
   "outputs": [],
   "source": []
  },
  {
   "cell_type": "code",
   "execution_count": null,
   "metadata": {},
   "outputs": [],
   "source": []
  },
  {
   "cell_type": "code",
   "execution_count": null,
   "metadata": {},
   "outputs": [],
   "source": []
  },
  {
   "cell_type": "code",
   "execution_count": null,
   "metadata": {},
   "outputs": [],
   "source": []
  },
  {
   "cell_type": "code",
   "execution_count": null,
   "metadata": {},
   "outputs": [],
   "source": []
  },
  {
   "cell_type": "code",
   "execution_count": null,
   "metadata": {},
   "outputs": [],
   "source": []
  },
  {
   "cell_type": "code",
   "execution_count": null,
   "metadata": {},
   "outputs": [],
   "source": []
  },
  {
   "cell_type": "code",
   "execution_count": null,
   "metadata": {},
   "outputs": [],
   "source": []
  },
  {
   "cell_type": "markdown",
   "metadata": {},
   "source": [
    "### Combining the 2 datasets"
   ]
  },
  {
   "cell_type": "markdown",
   "metadata": {},
   "source": [
    "- Using your function above and the NYTimes comments data from your homework 1, how many commenters are likely men vs women vs unknown?\n",
    "- save this merged dataset and call it `gendered_nytimes_comments.csv`\n",
    "- Do the gender proportions change (of the commenter) if the author of the article is a certain gender?"
   ]
  },
  {
   "cell_type": "code",
   "execution_count": null,
   "metadata": {},
   "outputs": [],
   "source": []
  },
  {
   "cell_type": "code",
   "execution_count": null,
   "metadata": {},
   "outputs": [],
   "source": []
  },
  {
   "cell_type": "code",
   "execution_count": null,
   "metadata": {},
   "outputs": [],
   "source": []
  },
  {
   "cell_type": "code",
   "execution_count": null,
   "metadata": {},
   "outputs": [],
   "source": []
  },
  {
   "cell_type": "code",
   "execution_count": null,
   "metadata": {},
   "outputs": [],
   "source": []
  },
  {
   "cell_type": "code",
   "execution_count": null,
   "metadata": {},
   "outputs": [],
   "source": []
  }
 ],
 "metadata": {
  "kernelspec": {
   "display_name": "R",
   "language": "R",
   "name": "ir"
  },
  "language_info": {
   "codemirror_mode": "r",
   "file_extension": ".r",
   "mimetype": "text/x-r-source",
   "name": "R",
   "pygments_lexer": "r",
   "version": "3.4.3"
  }
 },
 "nbformat": 4,
 "nbformat_minor": 4
}
