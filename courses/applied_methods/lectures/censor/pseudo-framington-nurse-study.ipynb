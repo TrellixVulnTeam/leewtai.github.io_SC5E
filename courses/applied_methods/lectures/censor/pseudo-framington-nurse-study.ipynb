{
 "cells": [
  {
   "cell_type": "markdown",
   "metadata": {},
   "source": [
    "## Framington Nurse Study"
   ]
  },
  {
   "cell_type": "markdown",
   "metadata": {},
   "source": [
    "When there are multiple visits, we need to change the format of the data such that we have the start/end times for each visit along with its covariates.\n",
    "\n",
    "```\n",
    "subject time1 time2 death creatinine1\n",
    "5     0    90     0        0.92\n",
    "5    90   120     0        1.53       \n",
    "5   120   185     1        1.2\n",
    "```"
   ]
  },
  {
   "cell_type": "code",
   "execution_count": 5,
   "metadata": {},
   "outputs": [
    {
     "name": "stderr",
     "output_type": "stream",
     "text": [
      "── \u001b[1mAttaching packages\u001b[22m ─────────────────────────────────────── tidyverse 1.3.0 ──\n",
      "\n",
      "\u001b[32m✔\u001b[39m \u001b[34mggplot2\u001b[39m 3.3.2     \u001b[32m✔\u001b[39m \u001b[34mpurrr  \u001b[39m 0.3.4\n",
      "\u001b[32m✔\u001b[39m \u001b[34mtibble \u001b[39m 3.0.4     \u001b[32m✔\u001b[39m \u001b[34mdplyr  \u001b[39m 1.0.2\n",
      "\u001b[32m✔\u001b[39m \u001b[34mtidyr  \u001b[39m 1.1.2     \u001b[32m✔\u001b[39m \u001b[34mstringr\u001b[39m 1.4.0\n",
      "\u001b[32m✔\u001b[39m \u001b[34mreadr  \u001b[39m 1.4.0     \u001b[32m✔\u001b[39m \u001b[34mforcats\u001b[39m 0.5.0\n",
      "\n",
      "── \u001b[1mConflicts\u001b[22m ────────────────────────────────────────── tidyverse_conflicts() ──\n",
      "\u001b[31m✖\u001b[39m \u001b[34mdplyr\u001b[39m::\u001b[32mfilter()\u001b[39m masks \u001b[34mstats\u001b[39m::filter()\n",
      "\u001b[31m✖\u001b[39m \u001b[34mdplyr\u001b[39m::\u001b[32mlag()\u001b[39m    masks \u001b[34mstats\u001b[39m::lag()\n",
      "\n"
     ]
    }
   ],
   "source": [
    "library(tidyverse)"
   ]
  },
  {
   "cell_type": "code",
   "execution_count": 1,
   "metadata": {},
   "outputs": [],
   "source": [
    "df <- read.csv(\"../../../../usecases_data/framington_pseudo_heart_study/FRAMINGHAM_teaching_2019a/csv/frmgham2.csv\")"
   ]
  },
  {
   "cell_type": "code",
   "execution_count": 2,
   "metadata": {},
   "outputs": [
    {
     "data": {
      "text/html": [
       "<table>\n",
       "<caption>A data.frame: 6 × 39</caption>\n",
       "<thead>\n",
       "\t<tr><th></th><th scope=col>RANDID</th><th scope=col>SEX</th><th scope=col>TOTCHOL</th><th scope=col>AGE</th><th scope=col>SYSBP</th><th scope=col>DIABP</th><th scope=col>CURSMOKE</th><th scope=col>CIGPDAY</th><th scope=col>BMI</th><th scope=col>DIABETES</th><th scope=col>⋯</th><th scope=col>CVD</th><th scope=col>HYPERTEN</th><th scope=col>TIMEAP</th><th scope=col>TIMEMI</th><th scope=col>TIMEMIFC</th><th scope=col>TIMECHD</th><th scope=col>TIMESTRK</th><th scope=col>TIMECVD</th><th scope=col>TIMEDTH</th><th scope=col>TIMEHYP</th></tr>\n",
       "\t<tr><th></th><th scope=col>&lt;int&gt;</th><th scope=col>&lt;int&gt;</th><th scope=col>&lt;int&gt;</th><th scope=col>&lt;int&gt;</th><th scope=col>&lt;dbl&gt;</th><th scope=col>&lt;dbl&gt;</th><th scope=col>&lt;int&gt;</th><th scope=col>&lt;int&gt;</th><th scope=col>&lt;dbl&gt;</th><th scope=col>&lt;int&gt;</th><th scope=col>⋯</th><th scope=col>&lt;int&gt;</th><th scope=col>&lt;int&gt;</th><th scope=col>&lt;int&gt;</th><th scope=col>&lt;int&gt;</th><th scope=col>&lt;int&gt;</th><th scope=col>&lt;int&gt;</th><th scope=col>&lt;int&gt;</th><th scope=col>&lt;int&gt;</th><th scope=col>&lt;int&gt;</th><th scope=col>&lt;int&gt;</th></tr>\n",
       "</thead>\n",
       "<tbody>\n",
       "\t<tr><th scope=row>1</th><td>2448</td><td>1</td><td>195</td><td>39</td><td>106.0</td><td>70.0</td><td>0</td><td> 0</td><td>26.97</td><td>0</td><td>⋯</td><td>1</td><td>0</td><td>8766</td><td>6438</td><td>6438</td><td>6438</td><td>8766</td><td>6438</td><td>8766</td><td>8766</td></tr>\n",
       "\t<tr><th scope=row>2</th><td>2448</td><td>1</td><td>209</td><td>52</td><td>121.0</td><td>66.0</td><td>0</td><td> 0</td><td>   NA</td><td>0</td><td>⋯</td><td>1</td><td>0</td><td>8766</td><td>6438</td><td>6438</td><td>6438</td><td>8766</td><td>6438</td><td>8766</td><td>8766</td></tr>\n",
       "\t<tr><th scope=row>3</th><td>6238</td><td>2</td><td>250</td><td>46</td><td>121.0</td><td>81.0</td><td>0</td><td> 0</td><td>28.73</td><td>0</td><td>⋯</td><td>0</td><td>0</td><td>8766</td><td>8766</td><td>8766</td><td>8766</td><td>8766</td><td>8766</td><td>8766</td><td>8766</td></tr>\n",
       "\t<tr><th scope=row>4</th><td>6238</td><td>2</td><td>260</td><td>52</td><td>105.0</td><td>69.5</td><td>0</td><td> 0</td><td>29.43</td><td>0</td><td>⋯</td><td>0</td><td>0</td><td>8766</td><td>8766</td><td>8766</td><td>8766</td><td>8766</td><td>8766</td><td>8766</td><td>8766</td></tr>\n",
       "\t<tr><th scope=row>5</th><td>6238</td><td>2</td><td>237</td><td>58</td><td>108.0</td><td>66.0</td><td>0</td><td> 0</td><td>28.50</td><td>0</td><td>⋯</td><td>0</td><td>0</td><td>8766</td><td>8766</td><td>8766</td><td>8766</td><td>8766</td><td>8766</td><td>8766</td><td>8766</td></tr>\n",
       "\t<tr><th scope=row>6</th><td>9428</td><td>1</td><td>245</td><td>48</td><td>127.5</td><td>80.0</td><td>1</td><td>20</td><td>25.34</td><td>0</td><td>⋯</td><td>0</td><td>0</td><td>8766</td><td>8766</td><td>8766</td><td>8766</td><td>8766</td><td>8766</td><td>8766</td><td>8766</td></tr>\n",
       "</tbody>\n",
       "</table>\n"
      ],
      "text/latex": [
       "A data.frame: 6 × 39\n",
       "\\begin{tabular}{r|lllllllllllllllllllll}\n",
       "  & RANDID & SEX & TOTCHOL & AGE & SYSBP & DIABP & CURSMOKE & CIGPDAY & BMI & DIABETES & ⋯ & CVD & HYPERTEN & TIMEAP & TIMEMI & TIMEMIFC & TIMECHD & TIMESTRK & TIMECVD & TIMEDTH & TIMEHYP\\\\\n",
       "  & <int> & <int> & <int> & <int> & <dbl> & <dbl> & <int> & <int> & <dbl> & <int> & ⋯ & <int> & <int> & <int> & <int> & <int> & <int> & <int> & <int> & <int> & <int>\\\\\n",
       "\\hline\n",
       "\t1 & 2448 & 1 & 195 & 39 & 106.0 & 70.0 & 0 &  0 & 26.97 & 0 & ⋯ & 1 & 0 & 8766 & 6438 & 6438 & 6438 & 8766 & 6438 & 8766 & 8766\\\\\n",
       "\t2 & 2448 & 1 & 209 & 52 & 121.0 & 66.0 & 0 &  0 &    NA & 0 & ⋯ & 1 & 0 & 8766 & 6438 & 6438 & 6438 & 8766 & 6438 & 8766 & 8766\\\\\n",
       "\t3 & 6238 & 2 & 250 & 46 & 121.0 & 81.0 & 0 &  0 & 28.73 & 0 & ⋯ & 0 & 0 & 8766 & 8766 & 8766 & 8766 & 8766 & 8766 & 8766 & 8766\\\\\n",
       "\t4 & 6238 & 2 & 260 & 52 & 105.0 & 69.5 & 0 &  0 & 29.43 & 0 & ⋯ & 0 & 0 & 8766 & 8766 & 8766 & 8766 & 8766 & 8766 & 8766 & 8766\\\\\n",
       "\t5 & 6238 & 2 & 237 & 58 & 108.0 & 66.0 & 0 &  0 & 28.50 & 0 & ⋯ & 0 & 0 & 8766 & 8766 & 8766 & 8766 & 8766 & 8766 & 8766 & 8766\\\\\n",
       "\t6 & 9428 & 1 & 245 & 48 & 127.5 & 80.0 & 1 & 20 & 25.34 & 0 & ⋯ & 0 & 0 & 8766 & 8766 & 8766 & 8766 & 8766 & 8766 & 8766 & 8766\\\\\n",
       "\\end{tabular}\n"
      ],
      "text/markdown": [
       "\n",
       "A data.frame: 6 × 39\n",
       "\n",
       "| <!--/--> | RANDID &lt;int&gt; | SEX &lt;int&gt; | TOTCHOL &lt;int&gt; | AGE &lt;int&gt; | SYSBP &lt;dbl&gt; | DIABP &lt;dbl&gt; | CURSMOKE &lt;int&gt; | CIGPDAY &lt;int&gt; | BMI &lt;dbl&gt; | DIABETES &lt;int&gt; | ⋯ ⋯ | CVD &lt;int&gt; | HYPERTEN &lt;int&gt; | TIMEAP &lt;int&gt; | TIMEMI &lt;int&gt; | TIMEMIFC &lt;int&gt; | TIMECHD &lt;int&gt; | TIMESTRK &lt;int&gt; | TIMECVD &lt;int&gt; | TIMEDTH &lt;int&gt; | TIMEHYP &lt;int&gt; |\n",
       "|---|---|---|---|---|---|---|---|---|---|---|---|---|---|---|---|---|---|---|---|---|---|\n",
       "| 1 | 2448 | 1 | 195 | 39 | 106.0 | 70.0 | 0 |  0 | 26.97 | 0 | ⋯ | 1 | 0 | 8766 | 6438 | 6438 | 6438 | 8766 | 6438 | 8766 | 8766 |\n",
       "| 2 | 2448 | 1 | 209 | 52 | 121.0 | 66.0 | 0 |  0 |    NA | 0 | ⋯ | 1 | 0 | 8766 | 6438 | 6438 | 6438 | 8766 | 6438 | 8766 | 8766 |\n",
       "| 3 | 6238 | 2 | 250 | 46 | 121.0 | 81.0 | 0 |  0 | 28.73 | 0 | ⋯ | 0 | 0 | 8766 | 8766 | 8766 | 8766 | 8766 | 8766 | 8766 | 8766 |\n",
       "| 4 | 6238 | 2 | 260 | 52 | 105.0 | 69.5 | 0 |  0 | 29.43 | 0 | ⋯ | 0 | 0 | 8766 | 8766 | 8766 | 8766 | 8766 | 8766 | 8766 | 8766 |\n",
       "| 5 | 6238 | 2 | 237 | 58 | 108.0 | 66.0 | 0 |  0 | 28.50 | 0 | ⋯ | 0 | 0 | 8766 | 8766 | 8766 | 8766 | 8766 | 8766 | 8766 | 8766 |\n",
       "| 6 | 9428 | 1 | 245 | 48 | 127.5 | 80.0 | 1 | 20 | 25.34 | 0 | ⋯ | 0 | 0 | 8766 | 8766 | 8766 | 8766 | 8766 | 8766 | 8766 | 8766 |\n",
       "\n"
      ],
      "text/plain": [
       "  RANDID SEX TOTCHOL AGE SYSBP DIABP CURSMOKE CIGPDAY BMI   DIABETES ⋯ CVD\n",
       "1 2448   1   195     39  106.0 70.0  0         0      26.97 0        ⋯ 1  \n",
       "2 2448   1   209     52  121.0 66.0  0         0         NA 0        ⋯ 1  \n",
       "3 6238   2   250     46  121.0 81.0  0         0      28.73 0        ⋯ 0  \n",
       "4 6238   2   260     52  105.0 69.5  0         0      29.43 0        ⋯ 0  \n",
       "5 6238   2   237     58  108.0 66.0  0         0      28.50 0        ⋯ 0  \n",
       "6 9428   1   245     48  127.5 80.0  1        20      25.34 0        ⋯ 0  \n",
       "  HYPERTEN TIMEAP TIMEMI TIMEMIFC TIMECHD TIMESTRK TIMECVD TIMEDTH TIMEHYP\n",
       "1 0        8766   6438   6438     6438    8766     6438    8766    8766   \n",
       "2 0        8766   6438   6438     6438    8766     6438    8766    8766   \n",
       "3 0        8766   8766   8766     8766    8766     8766    8766    8766   \n",
       "4 0        8766   8766   8766     8766    8766     8766    8766    8766   \n",
       "5 0        8766   8766   8766     8766    8766     8766    8766    8766   \n",
       "6 0        8766   8766   8766     8766    8766     8766    8766    8766   "
      ]
     },
     "metadata": {},
     "output_type": "display_data"
    }
   ],
   "source": [
    "head(df)"
   ]
  },
  {
   "cell_type": "code",
   "execution_count": 4,
   "metadata": {
    "scrolled": true
   },
   "outputs": [
    {
     "data": {
      "text/html": [
       "<style>\n",
       ".list-inline {list-style: none; margin:0; padding: 0}\n",
       ".list-inline>li {display: inline-block}\n",
       ".list-inline>li:not(:last-child)::after {content: \"\\00b7\"; padding: 0 .5ex}\n",
       "</style>\n",
       "<ol class=list-inline><li>'RANDID'</li><li>'SEX'</li><li>'TOTCHOL'</li><li>'AGE'</li><li>'SYSBP'</li><li>'DIABP'</li><li>'CURSMOKE'</li><li>'CIGPDAY'</li><li>'BMI'</li><li>'DIABETES'</li><li>'BPMEDS'</li><li>'HEARTRTE'</li><li>'GLUCOSE'</li><li>'educ'</li><li>'PREVCHD'</li><li>'PREVAP'</li><li>'PREVMI'</li><li>'PREVSTRK'</li><li>'PREVHYP'</li><li>'TIME'</li><li>'PERIOD'</li><li>'HDLC'</li><li>'LDLC'</li><li>'DEATH'</li><li>'ANGINA'</li><li>'HOSPMI'</li><li>'MI_FCHD'</li><li>'ANYCHD'</li><li>'STROKE'</li><li>'CVD'</li><li>'HYPERTEN'</li><li>'TIMEAP'</li><li>'TIMEMI'</li><li>'TIMEMIFC'</li><li>'TIMECHD'</li><li>'TIMESTRK'</li><li>'TIMECVD'</li><li>'TIMEDTH'</li><li>'TIMEHYP'</li></ol>\n"
      ],
      "text/latex": [
       "\\begin{enumerate*}\n",
       "\\item 'RANDID'\n",
       "\\item 'SEX'\n",
       "\\item 'TOTCHOL'\n",
       "\\item 'AGE'\n",
       "\\item 'SYSBP'\n",
       "\\item 'DIABP'\n",
       "\\item 'CURSMOKE'\n",
       "\\item 'CIGPDAY'\n",
       "\\item 'BMI'\n",
       "\\item 'DIABETES'\n",
       "\\item 'BPMEDS'\n",
       "\\item 'HEARTRTE'\n",
       "\\item 'GLUCOSE'\n",
       "\\item 'educ'\n",
       "\\item 'PREVCHD'\n",
       "\\item 'PREVAP'\n",
       "\\item 'PREVMI'\n",
       "\\item 'PREVSTRK'\n",
       "\\item 'PREVHYP'\n",
       "\\item 'TIME'\n",
       "\\item 'PERIOD'\n",
       "\\item 'HDLC'\n",
       "\\item 'LDLC'\n",
       "\\item 'DEATH'\n",
       "\\item 'ANGINA'\n",
       "\\item 'HOSPMI'\n",
       "\\item 'MI\\_FCHD'\n",
       "\\item 'ANYCHD'\n",
       "\\item 'STROKE'\n",
       "\\item 'CVD'\n",
       "\\item 'HYPERTEN'\n",
       "\\item 'TIMEAP'\n",
       "\\item 'TIMEMI'\n",
       "\\item 'TIMEMIFC'\n",
       "\\item 'TIMECHD'\n",
       "\\item 'TIMESTRK'\n",
       "\\item 'TIMECVD'\n",
       "\\item 'TIMEDTH'\n",
       "\\item 'TIMEHYP'\n",
       "\\end{enumerate*}\n"
      ],
      "text/markdown": [
       "1. 'RANDID'\n",
       "2. 'SEX'\n",
       "3. 'TOTCHOL'\n",
       "4. 'AGE'\n",
       "5. 'SYSBP'\n",
       "6. 'DIABP'\n",
       "7. 'CURSMOKE'\n",
       "8. 'CIGPDAY'\n",
       "9. 'BMI'\n",
       "10. 'DIABETES'\n",
       "11. 'BPMEDS'\n",
       "12. 'HEARTRTE'\n",
       "13. 'GLUCOSE'\n",
       "14. 'educ'\n",
       "15. 'PREVCHD'\n",
       "16. 'PREVAP'\n",
       "17. 'PREVMI'\n",
       "18. 'PREVSTRK'\n",
       "19. 'PREVHYP'\n",
       "20. 'TIME'\n",
       "21. 'PERIOD'\n",
       "22. 'HDLC'\n",
       "23. 'LDLC'\n",
       "24. 'DEATH'\n",
       "25. 'ANGINA'\n",
       "26. 'HOSPMI'\n",
       "27. 'MI_FCHD'\n",
       "28. 'ANYCHD'\n",
       "29. 'STROKE'\n",
       "30. 'CVD'\n",
       "31. 'HYPERTEN'\n",
       "32. 'TIMEAP'\n",
       "33. 'TIMEMI'\n",
       "34. 'TIMEMIFC'\n",
       "35. 'TIMECHD'\n",
       "36. 'TIMESTRK'\n",
       "37. 'TIMECVD'\n",
       "38. 'TIMEDTH'\n",
       "39. 'TIMEHYP'\n",
       "\n",
       "\n"
      ],
      "text/plain": [
       " [1] \"RANDID\"   \"SEX\"      \"TOTCHOL\"  \"AGE\"      \"SYSBP\"    \"DIABP\"   \n",
       " [7] \"CURSMOKE\" \"CIGPDAY\"  \"BMI\"      \"DIABETES\" \"BPMEDS\"   \"HEARTRTE\"\n",
       "[13] \"GLUCOSE\"  \"educ\"     \"PREVCHD\"  \"PREVAP\"   \"PREVMI\"   \"PREVSTRK\"\n",
       "[19] \"PREVHYP\"  \"TIME\"     \"PERIOD\"   \"HDLC\"     \"LDLC\"     \"DEATH\"   \n",
       "[25] \"ANGINA\"   \"HOSPMI\"   \"MI_FCHD\"  \"ANYCHD\"   \"STROKE\"   \"CVD\"     \n",
       "[31] \"HYPERTEN\" \"TIMEAP\"   \"TIMEMI\"   \"TIMEMIFC\" \"TIMECHD\"  \"TIMESTRK\"\n",
       "[37] \"TIMECVD\"  \"TIMEDTH\"  \"TIMEHYP\" "
      ]
     },
     "metadata": {},
     "output_type": "display_data"
    }
   ],
   "source": [
    "names(df)"
   ]
  },
  {
   "cell_type": "markdown",
   "metadata": {},
   "source": [
    "#### Data wrangling"
   ]
  },
  {
   "cell_type": "markdown",
   "metadata": {},
   "source": [
    "To tell R that we have multiple visits from the same individual, you need to structure the data you specify the time interval (start, end) within `Surv` like the following:\n",
    "\n",
    "```\n",
    "cox_phm <- coxph(Surv(time=START_TIME, time2=TIME, event=DEATH) ~ SEX, df)\n",
    "```\n",
    "\n",
    "How can you wrangle the data such that this will work?"
   ]
  },
  {
   "cell_type": "code",
   "execution_count": 6,
   "metadata": {},
   "outputs": [
    {
     "name": "stderr",
     "output_type": "stream",
     "text": [
      "`summarise()` ungrouping output (override with `.groups` argument)\n",
      "\n"
     ]
    }
   ],
   "source": [
    "agg_df <- df %>% group_by(RANDID) %>% summarise(sex=tail(SEX, 1),\n",
    "                                                age_start=min(AGE),\n",
    "                                                time_start=min(TIME),\n",
    "                                                time_end=max(TIME),\n",
    "                                                num_visits=n())"
   ]
  },
  {
   "cell_type": "code",
   "execution_count": 8,
   "metadata": {},
   "outputs": [
    {
     "data": {
      "text/html": [
       "<table>\n",
       "<caption>A tibble: 6 × 6</caption>\n",
       "<thead>\n",
       "\t<tr><th scope=col>RANDID</th><th scope=col>sex</th><th scope=col>age_start</th><th scope=col>time_start</th><th scope=col>time_end</th><th scope=col>num_visits</th></tr>\n",
       "\t<tr><th scope=col>&lt;int&gt;</th><th scope=col>&lt;int&gt;</th><th scope=col>&lt;int&gt;</th><th scope=col>&lt;int&gt;</th><th scope=col>&lt;int&gt;</th><th scope=col>&lt;int&gt;</th></tr>\n",
       "</thead>\n",
       "<tbody>\n",
       "\t<tr><td> 2448</td><td>1</td><td>39</td><td>0</td><td>4628</td><td>2</td></tr>\n",
       "\t<tr><td> 6238</td><td>2</td><td>46</td><td>0</td><td>4344</td><td>3</td></tr>\n",
       "\t<tr><td> 9428</td><td>1</td><td>48</td><td>0</td><td>2199</td><td>2</td></tr>\n",
       "\t<tr><td>10552</td><td>2</td><td>61</td><td>0</td><td>1977</td><td>2</td></tr>\n",
       "\t<tr><td>11252</td><td>2</td><td>46</td><td>0</td><td>4285</td><td>3</td></tr>\n",
       "\t<tr><td>11263</td><td>2</td><td>43</td><td>0</td><td>4351</td><td>3</td></tr>\n",
       "</tbody>\n",
       "</table>\n"
      ],
      "text/latex": [
       "A tibble: 6 × 6\n",
       "\\begin{tabular}{llllll}\n",
       " RANDID & sex & age\\_start & time\\_start & time\\_end & num\\_visits\\\\\n",
       " <int> & <int> & <int> & <int> & <int> & <int>\\\\\n",
       "\\hline\n",
       "\t  2448 & 1 & 39 & 0 & 4628 & 2\\\\\n",
       "\t  6238 & 2 & 46 & 0 & 4344 & 3\\\\\n",
       "\t  9428 & 1 & 48 & 0 & 2199 & 2\\\\\n",
       "\t 10552 & 2 & 61 & 0 & 1977 & 2\\\\\n",
       "\t 11252 & 2 & 46 & 0 & 4285 & 3\\\\\n",
       "\t 11263 & 2 & 43 & 0 & 4351 & 3\\\\\n",
       "\\end{tabular}\n"
      ],
      "text/markdown": [
       "\n",
       "A tibble: 6 × 6\n",
       "\n",
       "| RANDID &lt;int&gt; | sex &lt;int&gt; | age_start &lt;int&gt; | time_start &lt;int&gt; | time_end &lt;int&gt; | num_visits &lt;int&gt; |\n",
       "|---|---|---|---|---|---|\n",
       "|  2448 | 1 | 39 | 0 | 4628 | 2 |\n",
       "|  6238 | 2 | 46 | 0 | 4344 | 3 |\n",
       "|  9428 | 1 | 48 | 0 | 2199 | 2 |\n",
       "| 10552 | 2 | 61 | 0 | 1977 | 2 |\n",
       "| 11252 | 2 | 46 | 0 | 4285 | 3 |\n",
       "| 11263 | 2 | 43 | 0 | 4351 | 3 |\n",
       "\n"
      ],
      "text/plain": [
       "  RANDID sex age_start time_start time_end num_visits\n",
       "1  2448  1   39        0          4628     2         \n",
       "2  6238  2   46        0          4344     3         \n",
       "3  9428  1   48        0          2199     2         \n",
       "4 10552  2   61        0          1977     2         \n",
       "5 11252  2   46        0          4285     3         \n",
       "6 11263  2   43        0          4351     3         "
      ]
     },
     "metadata": {},
     "output_type": "display_data"
    }
   ],
   "source": [
    "head(agg_df)"
   ]
  },
  {
   "cell_type": "code",
   "execution_count": null,
   "metadata": {},
   "outputs": [],
   "source": []
  },
  {
   "cell_type": "markdown",
   "metadata": {},
   "source": [
    "#### Please check the data quality of your wrangling, what would you look at?"
   ]
  },
  {
   "cell_type": "code",
   "execution_count": null,
   "metadata": {},
   "outputs": [],
   "source": []
  },
  {
   "cell_type": "code",
   "execution_count": null,
   "metadata": {},
   "outputs": [],
   "source": []
  },
  {
   "cell_type": "code",
   "execution_count": null,
   "metadata": {},
   "outputs": [],
   "source": []
  },
  {
   "cell_type": "markdown",
   "metadata": {},
   "source": [
    "#### Exam the survival rate by gender first"
   ]
  },
  {
   "cell_type": "code",
   "execution_count": null,
   "metadata": {},
   "outputs": [],
   "source": []
  },
  {
   "cell_type": "code",
   "execution_count": null,
   "metadata": {},
   "outputs": [],
   "source": []
  },
  {
   "cell_type": "code",
   "execution_count": null,
   "metadata": {},
   "outputs": [],
   "source": []
  },
  {
   "cell_type": "markdown",
   "metadata": {},
   "source": [
    "#### What else would you add into the model?"
   ]
  },
  {
   "cell_type": "code",
   "execution_count": null,
   "metadata": {},
   "outputs": [],
   "source": []
  },
  {
   "cell_type": "code",
   "execution_count": null,
   "metadata": {},
   "outputs": [],
   "source": []
  }
 ],
 "metadata": {
  "kernelspec": {
   "display_name": "R",
   "language": "R",
   "name": "ir"
  },
  "language_info": {
   "codemirror_mode": "r",
   "file_extension": ".r",
   "mimetype": "text/x-r-source",
   "name": "R",
   "pygments_lexer": "r",
   "version": "3.4.3"
  }
 },
 "nbformat": 4,
 "nbformat_minor": 4
}
